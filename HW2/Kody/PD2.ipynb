{
 "cells": [
  {
   "cell_type": "markdown",
   "id": "b0f06eb1",
   "metadata": {},
   "source": [
    "### Import potrzebnych pakietów i funkcji"
   ]
  },
  {
   "cell_type": "code",
   "execution_count": 1,
   "id": "be55e823",
   "metadata": {},
   "outputs": [],
   "source": [
    "import numpy as np\n",
    "import pandas as pd\n",
    "from sklearn.datasets import fetch_openml\n",
    "from sklearn.model_selection import train_test_split\n",
    "from sklearn.linear_model import LogisticRegression\n",
    "import sklearn.model_selection as skm\n",
    "from sklearn.metrics import accuracy_score, precision_score, recall_score, roc_curve, roc_auc_score, confusion_matrix\n",
    "import matplotlib.pyplot as plt\n",
    "from sklearn.svm import SVC"
   ]
  },
  {
   "cell_type": "markdown",
   "id": "44f16db9",
   "metadata": {},
   "source": [
    "### Pobranie i przygotowanie danych"
   ]
  },
  {
   "cell_type": "code",
   "execution_count": 2,
   "id": "8b855d95",
   "metadata": {},
   "outputs": [],
   "source": [
    "df = fetch_openml(data_id = 31)\n",
    "y = df.target\n",
    "X = df.data"
   ]
  },
  {
   "cell_type": "code",
   "execution_count": 3,
   "id": "e6b8a2be",
   "metadata": {},
   "outputs": [],
   "source": [
    "y = pd.get_dummies(y)\n",
    "y = y.drop(['bad'], axis = 1)"
   ]
  },
  {
   "cell_type": "code",
   "execution_count": 4,
   "id": "9dd6702c",
   "metadata": {},
   "outputs": [],
   "source": [
    "X = pd.get_dummies(X)"
   ]
  },
  {
   "cell_type": "code",
   "execution_count": 5,
   "id": "84e12404",
   "metadata": {},
   "outputs": [],
   "source": [
    "X_train, X_test, y_train, y_test = train_test_split(X, y, test_size = 0.3, shuffle = True, random_state = 320584)"
   ]
  },
  {
   "cell_type": "code",
   "execution_count": 6,
   "id": "dac80f48",
   "metadata": {},
   "outputs": [],
   "source": [
    "y_train = y_train.values.ravel()\n",
    "y_test = y_test.values.ravel()"
   ]
  },
  {
   "cell_type": "markdown",
   "id": "31864412",
   "metadata": {},
   "source": [
    "### Model regresji logistycznej bez regularyzacji"
   ]
  },
  {
   "cell_type": "code",
   "execution_count": 7,
   "id": "6ba2d319",
   "metadata": {},
   "outputs": [
    {
     "data": {
      "text/plain": [
       "LogisticRegression(max_iter=80000, penalty='none', random_state=320584)"
      ]
     },
     "execution_count": 7,
     "metadata": {},
     "output_type": "execute_result"
    }
   ],
   "source": [
    "model1 = LogisticRegression(penalty = 'none', max_iter = 80000, random_state = 320584)\n",
    "model1.fit(X_train, y_train)"
   ]
  },
  {
   "cell_type": "code",
   "execution_count": 8,
   "id": "1e8db182",
   "metadata": {},
   "outputs": [],
   "source": [
    "y_pred_train = model1.predict(X_train)"
   ]
  },
  {
   "cell_type": "code",
   "execution_count": 9,
   "id": "9cb05ff0",
   "metadata": {},
   "outputs": [
    {
     "name": "stdout",
     "output_type": "stream",
     "text": [
      "dokładność na zbiorze treningowym: 0.786\n",
      "czułość na zbiorze treningowym: 0.891\n",
      "precyzja na zbiorze treningowym: 0.817\n"
     ]
    }
   ],
   "source": [
    "print(\"dokładność na zbiorze treningowym:\", np.round(accuracy_score(y_train, y_pred_train), 3))\n",
    "print(\"czułość na zbiorze treningowym:\", np.round(recall_score(y_train, y_pred_train), 3))\n",
    "print(\"precyzja na zbiorze treningowym:\", np.round(precision_score(y_train, y_pred_train), 3))"
   ]
  },
  {
   "cell_type": "code",
   "execution_count": 10,
   "id": "ecb09878",
   "metadata": {},
   "outputs": [
    {
     "name": "stdout",
     "output_type": "stream",
     "text": [
      "AUC na zbiorze treningowym: 0.838\n"
     ]
    }
   ],
   "source": [
    "pred_train = model1.predict_proba(X_train)\n",
    "print(\"AUC na zbiorze treningowym:\", np.round(roc_auc_score(y_train, pred_train[:, 1]), 3))"
   ]
  },
  {
   "cell_type": "code",
   "execution_count": 11,
   "id": "65c51c84",
   "metadata": {},
   "outputs": [],
   "source": [
    "y_pred_test = model1.predict(X_test)"
   ]
  },
  {
   "cell_type": "code",
   "execution_count": 12,
   "id": "6b0581e2",
   "metadata": {},
   "outputs": [
    {
     "name": "stdout",
     "output_type": "stream",
     "text": [
      "dokładność na zbiorze testowym: 0.723\n",
      "czułość na zbiorze testowym: 0.794\n",
      "precyzja na zbiorze testowym: 0.813\n"
     ]
    }
   ],
   "source": [
    "print(\"dokładność na zbiorze testowym:\", np.round(accuracy_score(y_test, y_pred_test), 3))\n",
    "print(\"czułość na zbiorze testowym:\", np.round(recall_score(y_test, y_pred_test), 3))\n",
    "print(\"precyzja na zbiorze testowym:\", np.round(precision_score(y_test, y_pred_test), 3))"
   ]
  },
  {
   "cell_type": "code",
   "execution_count": 13,
   "id": "ba31c3ac",
   "metadata": {},
   "outputs": [
    {
     "name": "stdout",
     "output_type": "stream",
     "text": [
      "AUC na zbiorze testowym: 0.774\n"
     ]
    }
   ],
   "source": [
    "pred_test = model1.predict_proba(X_test)\n",
    "print(\"AUC na zbiorze testowym:\", np.round(roc_auc_score(y_test, pred_test[:, 1]), 3))"
   ]
  },
  {
   "cell_type": "code",
   "execution_count": 14,
   "id": "5b1c90ab",
   "metadata": {},
   "outputs": [
    {
     "data": {
      "image/png": "[encoded data removed]",
      "text/plain": [
       "<Figure size 432x288 with 1 Axes>"
      ]
     },
     "metadata": {
      "needs_background": "light"
     },
     "output_type": "display_data"
    }
   ],
   "source": [
    "fpr1, tpr1, thresholds1 = roc_curve(y_train, pred_train[:, 1])\n",
    "fpr2, tpr2, thresholds2 = roc_curve(y_test, pred_test[:, 1])\n",
    "plt.plot(fpr2, tpr2, label = \"ROC dla zbioru testowego\")\n",
    "plt.plot(fpr1, tpr1, label = \"ROC dla zbioru treningowego\")\n",
    "plt.legend()\n",
    "plt.savefig('bezregularyzacji.pdf', format = \"pdf\")"
   ]
  },
  {
   "cell_type": "markdown",
   "id": "71acce9f",
   "metadata": {},
   "source": [
    "### Model regresji logistycznej z regularyzacją L1"
   ]
  },
  {
   "cell_type": "code",
   "execution_count": 15,
   "id": "8ed110ff",
   "metadata": {},
   "outputs": [
    {
     "data": {
      "text/plain": [
       "LogisticRegression(max_iter=80000, penalty='l1', random_state=320584,\n",
       "                   solver='liblinear')"
      ]
     },
     "execution_count": 15,
     "metadata": {},
     "output_type": "execute_result"
    }
   ],
   "source": [
    "model2 = LogisticRegression(penalty = 'l1', max_iter = 80000, random_state = 320584, solver = 'liblinear')\n",
    "model2.fit(X_train, y_train)"
   ]
  },
  {
   "cell_type": "code",
   "execution_count": 16,
   "id": "86d369ca",
   "metadata": {},
   "outputs": [],
   "source": [
    "kfold = skm.KFold(5, random_state = 320584, shuffle = True)"
   ]
  },
  {
   "cell_type": "code",
   "execution_count": 17,
   "id": "23b98277",
   "metadata": {},
   "outputs": [],
   "source": [
    "grid = skm.GridSearchCV(model2, {'C': [0.001,0.005, 0.01, 0.05, 0.1, 0.5, 0.8, 0.99, 1, 1.02, 2, 5, 10,30,  50, 100]},\n",
    "                       refit = True, cv = kfold, scoring = 'precision')"
   ]
  },
  {
   "cell_type": "code",
   "execution_count": 18,
   "id": "6a55e579",
   "metadata": {},
   "outputs": [
    {
     "data": {
      "text/plain": [
       "GridSearchCV(cv=KFold(n_splits=5, random_state=320584, shuffle=True),\n",
       "             estimator=LogisticRegression(max_iter=80000, penalty='l1',\n",
       "                                          random_state=320584,\n",
       "                                          solver='liblinear'),\n",
       "             param_grid={'C': [0.001, 0.005, 0.01, 0.05, 0.1, 0.5, 0.8, 0.99, 1,\n",
       "                               1.02, 2, 5, 10, 30, 50, 100]},\n",
       "             scoring='precision')"
      ]
     },
     "execution_count": 18,
     "metadata": {},
     "output_type": "execute_result"
    }
   ],
   "source": [
    "grid.fit(X_train, y_train)"
   ]
  },
  {
   "cell_type": "code",
   "execution_count": 19,
   "id": "a891d109",
   "metadata": {},
   "outputs": [
    {
     "data": {
      "text/plain": [
       "{'C': 0.99}"
      ]
     },
     "execution_count": 19,
     "metadata": {},
     "output_type": "execute_result"
    }
   ],
   "source": [
    "grid.best_params_"
   ]
  },
  {
   "cell_type": "code",
   "execution_count": 20,
   "id": "7ae4390e",
   "metadata": {},
   "outputs": [
    {
     "data": {
      "text/plain": [
       "LogisticRegression(C=0.99, max_iter=80000, penalty='l1', random_state=320584,\n",
       "                   solver='liblinear')"
      ]
     },
     "execution_count": 20,
     "metadata": {},
     "output_type": "execute_result"
    }
   ],
   "source": [
    "model2best = LogisticRegression(penalty = 'l1', max_iter = 80000, random_state = 320584, solver = 'liblinear', C = 0.99)\n",
    "model2best.fit(X_train, y_train)"
   ]
  },
  {
   "cell_type": "code",
   "execution_count": 21,
   "id": "51b22037",
   "metadata": {},
   "outputs": [],
   "source": [
    "y_pred_train_l1 = model2best.predict(X_train)"
   ]
  },
  {
   "cell_type": "code",
   "execution_count": 22,
   "id": "0375f44d",
   "metadata": {},
   "outputs": [
    {
     "name": "stdout",
     "output_type": "stream",
     "text": [
      "dokładność na zbiorze treningowym: 0.783\n",
      "czułość na zbiorze treningowym: 0.891\n",
      "precyzja na zbiorze treningowym: 0.814\n"
     ]
    }
   ],
   "source": [
    "print(\"dokładność na zbiorze treningowym:\", np.round(accuracy_score(y_train, y_pred_train_l1), 3))\n",
    "print(\"czułość na zbiorze treningowym:\", np.round(recall_score(y_train, y_pred_train_l1), 3))\n",
    "print(\"precyzja na zbiorze treningowym:\", np.round(precision_score(y_train, y_pred_train_l1), 3))"
   ]
  },
  {
   "cell_type": "code",
   "execution_count": 23,
   "id": "e0b3c393",
   "metadata": {},
   "outputs": [
    {
     "name": "stdout",
     "output_type": "stream",
     "text": [
      "AUC na zbiorze treningowym: 0.843\n"
     ]
    }
   ],
   "source": [
    "pred_train_l1 = model2best.predict_proba(X_train)\n",
    "print(\"AUC na zbiorze treningowym:\", np.round(roc_auc_score(y_train, pred_train_l1[:, 1]), 3))"
   ]
  },
  {
   "cell_type": "code",
   "execution_count": 24,
   "id": "82a76619",
   "metadata": {},
   "outputs": [],
   "source": [
    "y_pred_test_l1 = model2best.predict(X_test)"
   ]
  },
  {
   "cell_type": "code",
   "execution_count": 25,
   "id": "8e8a758e",
   "metadata": {},
   "outputs": [
    {
     "name": "stdout",
     "output_type": "stream",
     "text": [
      "dokładność na zbiorze testowym: 0.74\n",
      "czułość na zbiorze testowym: 0.822\n",
      "precyzja na zbiorze testowym: 0.815\n"
     ]
    }
   ],
   "source": [
    "print(\"dokładność na zbiorze testowym:\", np.round(accuracy_score(y_test, y_pred_test_l1), 3))\n",
    "print(\"czułość na zbiorze testowym:\", np.round(recall_score(y_test, y_pred_test_l1), 3))\n",
    "print(\"precyzja na zbiorze testowym:\", np.round(precision_score(y_test, y_pred_test_l1), 3))"
   ]
  },
  {
   "cell_type": "code",
   "execution_count": 26,
   "id": "3489c20e",
   "metadata": {},
   "outputs": [
    {
     "name": "stdout",
     "output_type": "stream",
     "text": [
      "AUC na zbiorze testowym: 0.781\n"
     ]
    }
   ],
   "source": [
    "pred_test_l1 = model2best.predict_proba(X_test)\n",
    "print(\"AUC na zbiorze testowym:\", np.round(roc_auc_score(y_test, pred_test_l1[:, 1]), 3))"
   ]
  },
  {
   "cell_type": "code",
   "execution_count": 27,
   "id": "afd3c61f",
   "metadata": {},
   "outputs": [
    {
     "data": {
      "image/png": "[encoded data removed]",
      "text/plain": [
       "<Figure size 432x288 with 1 Axes>"
      ]
     },
     "metadata": {
      "needs_background": "light"
     },
     "output_type": "display_data"
    }
   ],
   "source": [
    "fpr1, tpr1, thresholds1 = roc_curve(y_train, pred_train_l1[:, 1])\n",
    "fpr2, tpr2, thresholds2 = roc_curve(y_test, pred_test_l1[:, 1])\n",
    "plt.plot(fpr2, tpr2, label = \"ROC dla zbioru testowego\")\n",
    "plt.plot(fpr1, tpr1, label = \"ROC dla zbioru treningowego\")\n",
    "plt.legend()\n",
    "plt.savefig('regularyzacjal1.pdf', format = \"pdf\")"
   ]
  },
  {
   "cell_type": "markdown",
   "id": "601aa36a",
   "metadata": {},
   "source": [
    "### Model regresji logistycznej z regularyzacją L2"
   ]
  },
  {
   "cell_type": "code",
   "execution_count": 28,
   "id": "6c2beb63",
   "metadata": {},
   "outputs": [
    {
     "data": {
      "text/plain": [
       "LogisticRegression(max_iter=80000, random_state=320584)"
      ]
     },
     "execution_count": 28,
     "metadata": {},
     "output_type": "execute_result"
    }
   ],
   "source": [
    "model3 = LogisticRegression(penalty = 'l2', max_iter = 80000, random_state = 320584)\n",
    "model3.fit(X_train, y_train)"
   ]
  },
  {
   "cell_type": "code",
   "execution_count": 29,
   "id": "bd4aeeea",
   "metadata": {},
   "outputs": [],
   "source": [
    "kfold = skm.KFold(5, random_state = 320584, shuffle = True)"
   ]
  },
  {
   "cell_type": "code",
   "execution_count": 30,
   "id": "9cc8b22a",
   "metadata": {},
   "outputs": [],
   "source": [
    "grid = skm.GridSearchCV(model3, {'C': [0.001,0.005, 0.01, 0.05, 0.1, 0.5, 0.8, 0.99, 1, 1.02, 2, 5, 10, 50, 100]},\n",
    "                       refit = True, cv = kfold, scoring = 'precision')"
   ]
  },
  {
   "cell_type": "code",
   "execution_count": 31,
   "id": "0a116103",
   "metadata": {},
   "outputs": [
    {
     "data": {
      "text/plain": [
       "GridSearchCV(cv=KFold(n_splits=5, random_state=320584, shuffle=True),\n",
       "             estimator=LogisticRegression(max_iter=80000, random_state=320584),\n",
       "             param_grid={'C': [0.001, 0.005, 0.01, 0.05, 0.1, 0.5, 0.8, 0.99, 1,\n",
       "                               1.02, 2, 5, 10, 50, 100]},\n",
       "             scoring='precision')"
      ]
     },
     "execution_count": 31,
     "metadata": {},
     "output_type": "execute_result"
    }
   ],
   "source": [
    "grid.fit(X_train, y_train)"
   ]
  },
  {
   "cell_type": "code",
   "execution_count": 32,
   "id": "8fa67806",
   "metadata": {},
   "outputs": [
    {
     "data": {
      "text/plain": [
       "{'C': 0.5}"
      ]
     },
     "execution_count": 32,
     "metadata": {},
     "output_type": "execute_result"
    }
   ],
   "source": [
    "grid.best_params_"
   ]
  },
  {
   "cell_type": "code",
   "execution_count": 33,
   "id": "afafe55d",
   "metadata": {},
   "outputs": [
    {
     "data": {
      "text/plain": [
       "LogisticRegression(C=0.5, max_iter=80000, random_state=320584)"
      ]
     },
     "execution_count": 33,
     "metadata": {},
     "output_type": "execute_result"
    }
   ],
   "source": [
    "model3best = LogisticRegression(penalty = 'l2', max_iter = 80000, random_state = 320584, C = 0.5)\n",
    "model3best.fit(X_train, y_train)"
   ]
  },
  {
   "cell_type": "code",
   "execution_count": 34,
   "id": "fcefe5bd",
   "metadata": {},
   "outputs": [],
   "source": [
    "y_pred_train_l2 = model3best.predict(X_train)"
   ]
  },
  {
   "cell_type": "code",
   "execution_count": 35,
   "id": "b8696f78",
   "metadata": {},
   "outputs": [
    {
     "name": "stdout",
     "output_type": "stream",
     "text": [
      "dokładność na zbiorze treningowym: 0.79\n",
      "czułość na zbiorze treningowym: 0.899\n",
      "precyzja na zbiorze treningowym: 0.817\n"
     ]
    }
   ],
   "source": [
    "print(\"dokładność na zbiorze treningowym:\", np.round(accuracy_score(y_train, y_pred_train_l2), 3))\n",
    "print(\"czułość na zbiorze treningowym:\", np.round(recall_score(y_train, y_pred_train_l2), 3))\n",
    "print(\"precyzja na zbiorze treningowym:\", np.round(precision_score(y_train, y_pred_train_l2), 3))"
   ]
  },
  {
   "cell_type": "code",
   "execution_count": 36,
   "id": "0d6fc5fa",
   "metadata": {},
   "outputs": [
    {
     "name": "stdout",
     "output_type": "stream",
     "text": [
      "AUC na zbiorze treningowym: 0.838\n"
     ]
    }
   ],
   "source": [
    "pred_train_l2 = model3best.predict_proba(X_train)\n",
    "print(\"AUC na zbiorze treningowym:\", np.round(roc_auc_score(y_train, pred_train_l2[:, 1]), 3))"
   ]
  },
  {
   "cell_type": "code",
   "execution_count": 37,
   "id": "495ab966",
   "metadata": {},
   "outputs": [],
   "source": [
    "y_pred_test_l2 = model3best.predict(X_test)"
   ]
  },
  {
   "cell_type": "code",
   "execution_count": 38,
   "id": "e9374818",
   "metadata": {},
   "outputs": [
    {
     "name": "stdout",
     "output_type": "stream",
     "text": [
      "dokładność na zbiorze testowym: 0.727\n",
      "czułość na zbiorze testowym: 0.808\n",
      "precyzja na zbiorze testowym: 0.808\n"
     ]
    }
   ],
   "source": [
    "print(\"dokładność na zbiorze testowym:\", np.round(accuracy_score(y_test, y_pred_test_l2), 3))\n",
    "print(\"czułość na zbiorze testowym:\", np.round(recall_score(y_test, y_pred_test_l2), 3))\n",
    "print(\"precyzja na zbiorze testowym:\", np.round(precision_score(y_test, y_pred_test_l2), 3))"
   ]
  },
  {
   "cell_type": "code",
   "execution_count": 39,
   "id": "0f00ae5d",
   "metadata": {},
   "outputs": [
    {
     "name": "stdout",
     "output_type": "stream",
     "text": [
      "AUC na zbiorze testowym: 0.779\n"
     ]
    }
   ],
   "source": [
    "pred_test_l2 = model3best.predict_proba(X_test)\n",
    "print(\"AUC na zbiorze testowym:\", np.round(roc_auc_score(y_test, pred_test_l2[:, 1]), 3))"
   ]
  },
  {
   "cell_type": "code",
   "execution_count": 40,
   "id": "d6d2e60d",
   "metadata": {},
   "outputs": [
    {
     "data": {
      "image/png": "[encoded data removed]",
      "text/plain": [
       "<Figure size 432x288 with 1 Axes>"
      ]
     },
     "metadata": {
      "needs_background": "light"
     },
     "output_type": "display_data"
    }
   ],
   "source": [
    "fpr1, tpr1, thresholds1 = roc_curve(y_train, pred_train_l2[:, 1])\n",
    "fpr2, tpr2, thresholds2 = roc_curve(y_test, pred_test_l2[:, 1])\n",
    "plt.plot(fpr2, tpr2, label = \"ROC dla zbioru testowego\")\n",
    "plt.plot(fpr1, tpr1, label = \"ROC dla zbioru treningowego\")\n",
    "plt.legend()\n",
    "plt.savefig('regularyzacjal2.pdf', format = \"pdf\")"
   ]
  },
  {
   "cell_type": "code",
   "execution_count": 41,
   "id": "8c25b473",
   "metadata": {},
   "outputs": [
    {
     "data": {
      "image/png": "[encoded data removed]",
      "text/plain": [
       "<Figure size 432x288 with 1 Axes>"
      ]
     },
     "metadata": {
      "needs_background": "light"
     },
     "output_type": "display_data"
    }
   ],
   "source": [
    "fpr1, tpr1, thresholds1 = roc_curve(y_test, pred_test[:, 1])\n",
    "fpr2, tpr2, thresholds2 = roc_curve(y_test, pred_test_l1[:, 1])\n",
    "fpr3, tpr3, thresholds3 = roc_curve(y_test, pred_test_l2[:, 1])\n",
    "plt.plot(fpr1, tpr1, label = \"Bez regularyzacji\")\n",
    "plt.plot(fpr2, tpr2, label = \"Regularyzacja L1\")\n",
    "plt.plot(fpr3, tpr3, label = \"Regularyzacja L2\")\n",
    "plt.legend()\n",
    "plt.savefig('wszystkie.pdf', format = \"pdf\")"
   ]
  },
  {
   "cell_type": "markdown",
   "id": "37fea75e",
   "metadata": {},
   "source": [
    "### Współczynniki w modelach"
   ]
  },
  {
   "cell_type": "code",
   "execution_count": 42,
   "id": "7617856a",
   "metadata": {},
   "outputs": [
    {
     "name": "stdout",
     "output_type": "stream",
     "text": [
      "współczynniki w modelu bez regularyzacji: [[-3.07128282e-02 -1.04717536e-04 -3.01272415e-01  1.49563069e-01\n",
      "   2.94995025e-03  4.73217445e-02  6.41806526e-02 -5.98923819e-01\n",
      "  -2.08018365e-01  1.08021842e-01  1.13429780e+00 -5.78186280e-01\n",
      "  -4.16762949e-01  3.76237182e-01 -5.33605149e-02  1.10745002e+00\n",
      "  -8.73393728e-01  1.14413649e+00  1.28308220e-01  5.25024591e-01\n",
      "  -6.17015203e-02 -3.55069517e-01 -3.23261215e-01  0.00000000e+00\n",
      "   3.56131008e-03 -5.80627601e-02  3.05835592e-01 -4.17088052e-01\n",
      "  -2.29442847e-01  1.73714782e-02  4.72375343e-01  5.92161537e-01\n",
      "   5.00929121e-03  1.21171499e-01 -2.77893203e-01  6.74511470e-01\n",
      "  -8.74215973e-02 -1.56120744e-01 -1.30522138e-01  6.31859825e-01\n",
      "   9.01605157e-02  0.00000000e+00 -2.90946038e-01 -2.51484007e-02\n",
      "   7.51471898e-01  4.43015485e-01  6.05498339e-02  9.90321531e-02\n",
      "  -1.67220012e-01 -8.18567839e-02 -1.42502690e-01  6.59736933e-01\n",
      "  -3.07738142e-01  5.26050395e-01  2.17065207e-01  3.40235834e-01\n",
      "  -4.67145004e-02 -1.03288918e-01  2.45145043e-01  1.67282138e-01\n",
      "   2.68095321e-01  2.07632814e-02  4.14614178e-01]]\n"
     ]
    }
   ],
   "source": [
    "print(\"współczynniki w modelu bez regularyzacji:\", model1.coef_)"
   ]
  },
  {
   "cell_type": "code",
   "execution_count": 43,
   "id": "9144c4d4",
   "metadata": {},
   "outputs": [
    {
     "data": {
      "image/png": "[encoded data removed]",
      "text/plain": [
       "<Figure size 432x288 with 1 Axes>"
      ]
     },
     "metadata": {
      "needs_background": "light"
     },
     "output_type": "display_data"
    }
   ],
   "source": [
    "plt.bar(range(len(model1.coef_[0])), model1.coef_[0])\n",
    "plt.xlabel(\"zmienne\")\n",
    "plt.ylabel(\"współczynniki\")\n",
    "plt.show()"
   ]
  },
  {
   "cell_type": "code",
   "execution_count": 44,
   "id": "49adaf84",
   "metadata": {
    "scrolled": false
   },
   "outputs": [
    {
     "name": "stdout",
     "output_type": "stream",
     "text": [
      "purpose_vacation\n",
      "personal_status_female single\n"
     ]
    }
   ],
   "source": [
    "niepotrzebne_indeksy1 = [index for index, value in enumerate(model1.coef_[0]) if value == 0]\n",
    "for i in niepotrzebne_indeksy1:\n",
    "    print(X.columns[i])"
   ]
  },
  {
   "cell_type": "code",
   "execution_count": 45,
   "id": "5ddfb63c",
   "metadata": {},
   "outputs": [
    {
     "name": "stdout",
     "output_type": "stream",
     "text": [
      "współczynniki w modelu z regularyzacją L1: [[-3.12180622e-02 -8.49830274e-05 -2.23539840e-01  1.31866919e-01\n",
      "   6.25700688e-03 -2.63690273e-02 -2.32269138e-02 -4.17052172e-01\n",
      "   0.00000000e+00  2.54498590e-01  1.28752610e+00 -5.42279332e-01\n",
      "  -3.27373610e-01  2.68282662e-01  2.83800070e-03  8.91139604e-01\n",
      "  -6.50868837e-01  1.16326400e+00  0.00000000e+00  4.56706663e-01\n",
      "   0.00000000e+00 -5.07099171e-01 -2.22947589e-01  0.00000000e+00\n",
      "   0.00000000e+00  0.00000000e+00  6.87163816e-01 -2.99547990e-01\n",
      "   0.00000000e+00  0.00000000e+00  8.66557239e-01  5.53472469e-01\n",
      "   0.00000000e+00  9.61599067e-02 -9.52651850e-02  5.90442947e-01\n",
      "   0.00000000e+00  0.00000000e+00 -2.26242104e-02  5.71904789e-01\n",
      "   6.04589553e-02  0.00000000e+00  0.00000000e+00  0.00000000e+00\n",
      "   1.02300463e+00  2.88563384e-01  0.00000000e+00  1.00947847e-01\n",
      "  -1.87164569e-01  0.00000000e+00  0.00000000e+00  7.16557419e-01\n",
      "  -3.67752141e-01  3.00202332e-01  1.15824259e-02  6.52935187e-01\n",
      "   0.00000000e+00  0.00000000e+00  1.42546689e-01  0.00000000e+00\n",
      "   1.01269269e-01  0.00000000e+00  6.18033050e-01]]\n"
     ]
    }
   ],
   "source": [
    "print(\"współczynniki w modelu z regularyzacją L1:\", model2best.coef_)"
   ]
  },
  {
   "cell_type": "code",
   "execution_count": 46,
   "id": "8825844e",
   "metadata": {},
   "outputs": [
    {
     "data": {
      "image/png": "[encoded data removed]",
      "text/plain": [
       "<Figure size 432x288 with 1 Axes>"
      ]
     },
     "metadata": {
      "needs_background": "light"
     },
     "output_type": "display_data"
    }
   ],
   "source": [
    "plt.bar(range(len(model2best.coef_[0])), model2best.coef_[0])\n",
    "plt.xlabel(\"zmienne\")\n",
    "plt.ylabel(\"współczynniki\")\n",
    "plt.show()"
   ]
  },
  {
   "cell_type": "code",
   "execution_count": 47,
   "id": "78c025b6",
   "metadata": {},
   "outputs": [
    {
     "name": "stdout",
     "output_type": "stream",
     "text": [
      "checking_status_0<=X<200\n",
      "purpose_furniture/equipment\n",
      "purpose_domestic appliance\n",
      "purpose_vacation\n",
      "purpose_retraining\n",
      "purpose_business\n",
      "savings_status_100<=X<500\n",
      "savings_status_500<=X<1000\n",
      "employment_unemployed\n",
      "employment_>=7\n",
      "personal_status_male div/sep\n",
      "personal_status_female single\n",
      "other_parties_none\n",
      "other_parties_co applicant\n",
      "property_magnitude_life insurance\n",
      "other_payment_plans_bank\n",
      "other_payment_plans_stores\n",
      "job_unskilled resident\n",
      "job_skilled\n",
      "own_telephone_none\n",
      "foreign_worker_yes\n"
     ]
    }
   ],
   "source": [
    "niepotrzebne_indeksy2 = [index for index, value in enumerate(model2best.coef_[0]) if value == 0]\n",
    "for i in niepotrzebne_indeksy2:\n",
    "    print(X.columns[i])"
   ]
  },
  {
   "cell_type": "code",
   "execution_count": 48,
   "id": "b50cd2a3",
   "metadata": {},
   "outputs": [
    {
     "name": "stdout",
     "output_type": "stream",
     "text": [
      "współczynniki w modelu z regularyzacją L2: [[-3.03600137e-02 -8.78633664e-05 -2.54662591e-01  1.34399604e-01\n",
      "   5.34030352e-03  5.53501588e-02  5.33485829e-02 -5.79751239e-01\n",
      "  -1.80829886e-01  9.57998051e-02  1.02335747e+00 -4.79017172e-01\n",
      "  -3.56921339e-01  3.04686051e-01 -4.22432011e-02  9.32071811e-01\n",
      "  -7.25404614e-01  9.34241824e-01  8.73262351e-02  4.65487234e-01\n",
      "  -5.35969282e-02 -2.90027597e-01 -2.67382125e-01  0.00000000e+00\n",
      "   3.86731020e-03 -4.14501683e-02  2.45514979e-01 -3.86322270e-01\n",
      "  -1.77299067e-01  3.17648433e-02  3.89405035e-01  5.01027608e-01\n",
      "  -1.15871860e-02  7.86847146e-02 -2.23024389e-01  5.65094247e-01\n",
      "  -5.05912371e-02 -1.32902270e-01 -1.27967142e-01  5.33801366e-01\n",
      "   8.56441955e-02  0.00000000e+00 -2.23545737e-01 -2.85163336e-02\n",
      "   6.10638220e-01  3.80402796e-01  3.64095830e-02  1.03110346e-01\n",
      "  -1.61346575e-01 -9.93531996e-02 -1.18381218e-01  5.76310567e-01\n",
      "  -2.69263673e-01  4.70901625e-01  1.56938198e-01  2.73781001e-01\n",
      "  -3.52961270e-02 -7.05249042e-02  1.90616180e-01  1.28879212e-01\n",
      "   2.29696937e-01  1.79460650e-02  3.40630085e-01]]\n"
     ]
    }
   ],
   "source": [
    "print(\"współczynniki w modelu z regularyzacją L2:\", model3best.coef_)"
   ]
  },
  {
   "cell_type": "code",
   "execution_count": 49,
   "id": "38e97972",
   "metadata": {},
   "outputs": [
    {
     "data": {
      "image/png": "[encoded data removed]",
      "text/plain": [
       "<Figure size 432x288 with 1 Axes>"
      ]
     },
     "metadata": {
      "needs_background": "light"
     },
     "output_type": "display_data"
    }
   ],
   "source": [
    "plt.bar(range(len(model3best.coef_[0])), model3best.coef_[0])\n",
    "plt.xlabel(\"zmienne\")\n",
    "plt.ylabel(\"współczynniki\")\n",
    "plt.show()"
   ]
  },
  {
   "cell_type": "code",
   "execution_count": 50,
   "id": "d271a370",
   "metadata": {
    "scrolled": true
   },
   "outputs": [
    {
     "name": "stdout",
     "output_type": "stream",
     "text": [
      "purpose_vacation\n",
      "personal_status_female single\n"
     ]
    }
   ],
   "source": [
    "niepotrzebne_indeksy3 = [index for index, value in enumerate(model3best.coef_[0]) if value == 0]\n",
    "for i in niepotrzebne_indeksy3:\n",
    "    print(X.columns[i])"
   ]
  },
  {
   "cell_type": "markdown",
   "id": "2880b620",
   "metadata": {},
   "source": [
    "### Model wektorów podpierających"
   ]
  },
  {
   "cell_type": "code",
   "execution_count": 68,
   "id": "23ad8338",
   "metadata": {},
   "outputs": [],
   "source": [
    "X_train2 = X_train.drop(X_train.columns[niepotrzebne_indeksy2], axis = 1)\n",
    "X_test2 = X_test.drop(X_train.columns[niepotrzebne_indeksy2], axis = 1)"
   ]
  },
  {
   "cell_type": "code",
   "execution_count": 69,
   "id": "7d68d66b",
   "metadata": {},
   "outputs": [
    {
     "data": {
      "text/plain": [
       "SVC(kernel='linear', random_state=320584)"
      ]
     },
     "execution_count": 69,
     "metadata": {},
     "output_type": "execute_result"
    }
   ],
   "source": [
    "svm = SVC(kernel = 'linear', random_state = 320584)\n",
    "svm.fit(X_train, y_train)"
   ]
  },
  {
   "cell_type": "code",
   "execution_count": 70,
   "id": "becb6211",
   "metadata": {},
   "outputs": [],
   "source": [
    "y_pred_train = svm.predict(X_train)"
   ]
  },
  {
   "cell_type": "code",
   "execution_count": 71,
   "id": "cd54479b",
   "metadata": {},
   "outputs": [
    {
     "name": "stdout",
     "output_type": "stream",
     "text": [
      "dokładność na zbiorze treningowym: 0.78\n",
      "czułość na zbiorze treningowym: 0.852\n",
      "precyzja na zbiorze treningowym: 0.835\n"
     ]
    }
   ],
   "source": [
    "print(\"dokładność na zbiorze treningowym:\", np.round(accuracy_score(y_train, y_pred_train), 3))\n",
    "print(\"czułość na zbiorze treningowym:\", np.round(recall_score(y_train, y_pred_train), 3))\n",
    "print(\"precyzja na zbiorze treningowym:\", np.round(precision_score(y_train, y_pred_train), 3))"
   ]
  },
  {
   "cell_type": "code",
   "execution_count": 72,
   "id": "fe542fe9",
   "metadata": {},
   "outputs": [
    {
     "name": "stdout",
     "output_type": "stream",
     "text": [
      "AUC na zbiorze treningowym: 0.817\n"
     ]
    }
   ],
   "source": [
    "pred_train = svm.decision_function(X_train)\n",
    "print(\"AUC na zbiorze treningowym:\", np.round(roc_auc_score(y_train, pred_train), 3))"
   ]
  },
  {
   "cell_type": "code",
   "execution_count": 73,
   "id": "c23ebcef",
   "metadata": {},
   "outputs": [],
   "source": [
    "y_pred_test = svm.predict(X_test)"
   ]
  },
  {
   "cell_type": "code",
   "execution_count": 74,
   "id": "a70e2bbf",
   "metadata": {},
   "outputs": [
    {
     "name": "stdout",
     "output_type": "stream",
     "text": [
      "dokładność na zbiorze testowym: 0.733\n",
      "czułość na zbiorze testowym: 0.762\n",
      "precyzja na zbiorze testowym: 0.849\n"
     ]
    }
   ],
   "source": [
    "print(\"dokładność na zbiorze testowym:\", np.round(accuracy_score(y_test, y_pred_test), 3))\n",
    "print(\"czułość na zbiorze testowym:\", np.round(recall_score(y_test, y_pred_test), 3))\n",
    "print(\"precyzja na zbiorze testowym:\", np.round(precision_score(y_test, y_pred_test), 3))"
   ]
  },
  {
   "cell_type": "code",
   "execution_count": 75,
   "id": "27deb3b4",
   "metadata": {},
   "outputs": [
    {
     "name": "stdout",
     "output_type": "stream",
     "text": [
      "AUC na zbiorze testowym: 0.771\n"
     ]
    }
   ],
   "source": [
    "pred_test = svm.decision_function(X_test)\n",
    "print(\"AUC na zbiorze testowym:\", np.round(roc_auc_score(y_test, pred_test), 3))"
   ]
  },
  {
   "cell_type": "code",
   "execution_count": 76,
   "id": "025754aa",
   "metadata": {},
   "outputs": [
    {
     "data": {
      "image/png": "[encoded data removed]",
      "text/plain": [
       "<Figure size 432x288 with 1 Axes>"
      ]
     },
     "metadata": {
      "needs_background": "light"
     },
     "output_type": "display_data"
    }
   ],
   "source": [
    "fpr1, tpr1, thresholds1 = roc_curve(y_train, pred_train)\n",
    "fpr2, tpr2, thresholds2 = roc_curve(y_test, pred_test)\n",
    "plt.plot(fpr1, tpr1, label = \"ROC dla zbioru treningowego\")\n",
    "plt.plot(fpr2, tpr2, label = \"ROC dla zbioru testowego\")\n",
    "plt.legend()\n",
    "plt.savefig('svm.pdf', format = \"pdf\")"
   ]
  }
 ],
 "metadata": {
  "kernelspec": {
   "display_name": "Python 3 (ipykernel)",
   "language": "python",
   "name": "python3"
  },
  "language_info": {
   "codemirror_mode": {
    "name": "ipython",
    "version": 3
   },
   "file_extension": ".py",
   "mimetype": "text/x-python",
   "name": "python",
   "nbconvert_exporter": "python",
   "pygments_lexer": "ipython3",
   "version": "3.9.12"
  }
 },
 "nbformat": 4,
 "nbformat_minor": 5
}
