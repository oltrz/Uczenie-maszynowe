{
 "cells": [
  {
   "cell_type": "markdown",
   "id": "2a4e05ae",
   "metadata": {},
   "source": [
    "## Import pakietów i funkcji"
   ]
  },
  {
   "cell_type": "code",
   "execution_count": 2,
   "id": "3e907924",
   "metadata": {},
   "outputs": [],
   "source": [
    "from sklearn.ensemble import RandomForestClassifier, BaggingClassifier\n",
    "from sklearn.ensemble import ExtraTreesClassifier, GradientBoostingClassifier, VotingClassifier\n",
    "from sklearn.neighbors import KNeighborsClassifier\n",
    "from sklearn.linear_model import LogisticRegression\n",
    "from sklearn.feature_selection import SelectFromModel\n",
    "\n",
    "from sklearn.model_selection import train_test_split\n",
    "from sklearn.model_selection import GridSearchCV\n",
    "from sklearn.feature_selection import SequentialFeatureSelector\n",
    "\n",
    "from sklearn.pipeline import Pipeline\n",
    "from sklearn.preprocessing import StandardScaler\n",
    "\n",
    "import numpy as np\n",
    "import pandas as pd\n",
    "import matplotlib.pyplot as plt\n",
    "import seaborn as sns\n",
    "from sklearn.metrics import balanced_accuracy_score\n",
    "from sklearn.decomposition import PCA"
   ]
  },
  {
   "cell_type": "markdown",
   "id": "f765bf21",
   "metadata": {},
   "source": [
    "## Wczytanie danych"
   ]
  },
  {
   "cell_type": "code",
   "execution_count": 3,
   "id": "88212d7c",
   "metadata": {},
   "outputs": [],
   "source": [
    "X_train = pd.read_csv('artifical_train_data.csv')\n",
    "X_test = pd.read_csv('artifical_test_data.csv')\n",
    "y_train = pd.read_csv('artifical_train_labels.csv')"
   ]
  },
  {
   "cell_type": "markdown",
   "id": "a45bc538",
   "metadata": {},
   "source": [
    "## Wstępna analiza danych"
   ]
  },
  {
   "cell_type": "code",
   "execution_count": 4,
   "id": "322b354f",
   "metadata": {},
   "outputs": [
    {
     "name": "stdout",
     "output_type": "stream",
     "text": [
      "<class 'pandas.core.frame.DataFrame'>\n",
      "RangeIndex: 2000 entries, 0 to 1999\n",
      "Data columns (total 30 columns):\n",
      " #   Column  Non-Null Count  Dtype\n",
      "---  ------  --------------  -----\n",
      " 0   0       2000 non-null   int64\n",
      " 1   1       2000 non-null   int64\n",
      " 2   2       2000 non-null   int64\n",
      " 3   3       2000 non-null   int64\n",
      " 4   4       2000 non-null   int64\n",
      " 5   5       2000 non-null   int64\n",
      " 6   6       2000 non-null   int64\n",
      " 7   7       2000 non-null   int64\n",
      " 8   8       2000 non-null   int64\n",
      " 9   9       2000 non-null   int64\n",
      " 10  10      2000 non-null   int64\n",
      " 11  11      2000 non-null   int64\n",
      " 12  12      2000 non-null   int64\n",
      " 13  13      2000 non-null   int64\n",
      " 14  14      2000 non-null   int64\n",
      " 15  15      2000 non-null   int64\n",
      " 16  16      2000 non-null   int64\n",
      " 17  17      2000 non-null   int64\n",
      " 18  18      2000 non-null   int64\n",
      " 19  19      2000 non-null   int64\n",
      " 20  20      2000 non-null   int64\n",
      " 21  21      2000 non-null   int64\n",
      " 22  22      2000 non-null   int64\n",
      " 23  23      2000 non-null   int64\n",
      " 24  24      2000 non-null   int64\n",
      " 25  25      2000 non-null   int64\n",
      " 26  26      2000 non-null   int64\n",
      " 27  27      2000 non-null   int64\n",
      " 28  28      2000 non-null   int64\n",
      " 29  29      2000 non-null   int64\n",
      "dtypes: int64(30)\n",
      "memory usage: 468.9 KB\n"
     ]
    }
   ],
   "source": [
    "X_train.info()"
   ]
  },
  {
   "cell_type": "code",
   "execution_count": 5,
   "id": "da226e33",
   "metadata": {},
   "outputs": [
    {
     "data": {
      "text/html": [
       "<div>\n",
       "<style scoped>\n",
       "    .dataframe tbody tr th:only-of-type {\n",
       "        vertical-align: middle;\n",
       "    }\n",
       "\n",
       "    .dataframe tbody tr th {\n",
       "        vertical-align: top;\n",
       "    }\n",
       "\n",
       "    .dataframe thead th {\n",
       "        text-align: right;\n",
       "    }\n",
       "</style>\n",
       "<table border=\"1\" class=\"dataframe\">\n",
       "  <thead>\n",
       "    <tr style=\"text-align: right;\">\n",
       "      <th></th>\n",
       "      <th>0</th>\n",
       "      <th>1</th>\n",
       "      <th>2</th>\n",
       "      <th>3</th>\n",
       "      <th>4</th>\n",
       "      <th>5</th>\n",
       "      <th>6</th>\n",
       "      <th>7</th>\n",
       "      <th>8</th>\n",
       "      <th>9</th>\n",
       "      <th>...</th>\n",
       "      <th>20</th>\n",
       "      <th>21</th>\n",
       "      <th>22</th>\n",
       "      <th>23</th>\n",
       "      <th>24</th>\n",
       "      <th>25</th>\n",
       "      <th>26</th>\n",
       "      <th>27</th>\n",
       "      <th>28</th>\n",
       "      <th>29</th>\n",
       "    </tr>\n",
       "  </thead>\n",
       "  <tbody>\n",
       "    <tr>\n",
       "      <th>count</th>\n",
       "      <td>2000.000000</td>\n",
       "      <td>2000.000000</td>\n",
       "      <td>2000.000000</td>\n",
       "      <td>2000.000000</td>\n",
       "      <td>2000.000000</td>\n",
       "      <td>2000.000000</td>\n",
       "      <td>2000.000000</td>\n",
       "      <td>2000.000000</td>\n",
       "      <td>2000.00000</td>\n",
       "      <td>2000.000000</td>\n",
       "      <td>...</td>\n",
       "      <td>2000.000000</td>\n",
       "      <td>2000.000000</td>\n",
       "      <td>2000.000000</td>\n",
       "      <td>2000.000000</td>\n",
       "      <td>2000.000000</td>\n",
       "      <td>2000.000000</td>\n",
       "      <td>2000.000000</td>\n",
       "      <td>2000.000000</td>\n",
       "      <td>2000.00000</td>\n",
       "      <td>2000.000000</td>\n",
       "    </tr>\n",
       "    <tr>\n",
       "      <th>mean</th>\n",
       "      <td>514.450000</td>\n",
       "      <td>488.665000</td>\n",
       "      <td>477.888000</td>\n",
       "      <td>488.793000</td>\n",
       "      <td>507.522500</td>\n",
       "      <td>499.658500</td>\n",
       "      <td>478.436500</td>\n",
       "      <td>489.607500</td>\n",
       "      <td>495.38450</td>\n",
       "      <td>512.823500</td>\n",
       "      <td>...</td>\n",
       "      <td>504.674000</td>\n",
       "      <td>482.099500</td>\n",
       "      <td>485.000500</td>\n",
       "      <td>479.121000</td>\n",
       "      <td>498.843500</td>\n",
       "      <td>479.587500</td>\n",
       "      <td>500.472000</td>\n",
       "      <td>477.593500</td>\n",
       "      <td>481.42600</td>\n",
       "      <td>480.398000</td>\n",
       "    </tr>\n",
       "    <tr>\n",
       "      <th>std</th>\n",
       "      <td>42.190645</td>\n",
       "      <td>14.278821</td>\n",
       "      <td>11.473808</td>\n",
       "      <td>40.446955</td>\n",
       "      <td>36.961528</td>\n",
       "      <td>28.798395</td>\n",
       "      <td>7.785967</td>\n",
       "      <td>14.569474</td>\n",
       "      <td>19.34745</td>\n",
       "      <td>43.284502</td>\n",
       "      <td>...</td>\n",
       "      <td>40.995403</td>\n",
       "      <td>11.934899</td>\n",
       "      <td>43.010678</td>\n",
       "      <td>11.505153</td>\n",
       "      <td>53.677655</td>\n",
       "      <td>51.313223</td>\n",
       "      <td>96.954852</td>\n",
       "      <td>9.268938</td>\n",
       "      <td>113.46729</td>\n",
       "      <td>44.456189</td>\n",
       "    </tr>\n",
       "    <tr>\n",
       "      <th>min</th>\n",
       "      <td>362.000000</td>\n",
       "      <td>427.000000</td>\n",
       "      <td>442.000000</td>\n",
       "      <td>335.000000</td>\n",
       "      <td>371.000000</td>\n",
       "      <td>415.000000</td>\n",
       "      <td>453.000000</td>\n",
       "      <td>433.000000</td>\n",
       "      <td>424.00000</td>\n",
       "      <td>350.000000</td>\n",
       "      <td>...</td>\n",
       "      <td>378.000000</td>\n",
       "      <td>441.000000</td>\n",
       "      <td>367.000000</td>\n",
       "      <td>435.000000</td>\n",
       "      <td>333.000000</td>\n",
       "      <td>317.000000</td>\n",
       "      <td>207.000000</td>\n",
       "      <td>450.000000</td>\n",
       "      <td>84.00000</td>\n",
       "      <td>347.000000</td>\n",
       "    </tr>\n",
       "    <tr>\n",
       "      <th>25%</th>\n",
       "      <td>485.000000</td>\n",
       "      <td>479.000000</td>\n",
       "      <td>470.000000</td>\n",
       "      <td>460.750000</td>\n",
       "      <td>483.000000</td>\n",
       "      <td>480.000000</td>\n",
       "      <td>473.000000</td>\n",
       "      <td>480.000000</td>\n",
       "      <td>482.00000</td>\n",
       "      <td>484.000000</td>\n",
       "      <td>...</td>\n",
       "      <td>477.000000</td>\n",
       "      <td>474.000000</td>\n",
       "      <td>449.000000</td>\n",
       "      <td>471.000000</td>\n",
       "      <td>454.000000</td>\n",
       "      <td>435.000000</td>\n",
       "      <td>433.750000</td>\n",
       "      <td>470.000000</td>\n",
       "      <td>398.75000</td>\n",
       "      <td>451.000000</td>\n",
       "    </tr>\n",
       "    <tr>\n",
       "      <th>50%</th>\n",
       "      <td>513.000000</td>\n",
       "      <td>489.000000</td>\n",
       "      <td>477.000000</td>\n",
       "      <td>489.000000</td>\n",
       "      <td>507.000000</td>\n",
       "      <td>499.000000</td>\n",
       "      <td>478.000000</td>\n",
       "      <td>490.000000</td>\n",
       "      <td>495.00000</td>\n",
       "      <td>512.000000</td>\n",
       "      <td>...</td>\n",
       "      <td>504.000000</td>\n",
       "      <td>482.000000</td>\n",
       "      <td>485.000000</td>\n",
       "      <td>479.000000</td>\n",
       "      <td>498.500000</td>\n",
       "      <td>480.000000</td>\n",
       "      <td>496.000000</td>\n",
       "      <td>478.000000</td>\n",
       "      <td>487.50000</td>\n",
       "      <td>480.000000</td>\n",
       "    </tr>\n",
       "    <tr>\n",
       "      <th>75%</th>\n",
       "      <td>543.000000</td>\n",
       "      <td>498.000000</td>\n",
       "      <td>486.000000</td>\n",
       "      <td>515.000000</td>\n",
       "      <td>531.000000</td>\n",
       "      <td>518.000000</td>\n",
       "      <td>483.000000</td>\n",
       "      <td>499.000000</td>\n",
       "      <td>508.00000</td>\n",
       "      <td>542.000000</td>\n",
       "      <td>...</td>\n",
       "      <td>532.000000</td>\n",
       "      <td>490.000000</td>\n",
       "      <td>521.000000</td>\n",
       "      <td>487.000000</td>\n",
       "      <td>543.000000</td>\n",
       "      <td>522.000000</td>\n",
       "      <td>568.000000</td>\n",
       "      <td>485.000000</td>\n",
       "      <td>562.00000</td>\n",
       "      <td>512.000000</td>\n",
       "    </tr>\n",
       "    <tr>\n",
       "      <th>max</th>\n",
       "      <td>668.000000</td>\n",
       "      <td>537.000000</td>\n",
       "      <td>514.000000</td>\n",
       "      <td>661.000000</td>\n",
       "      <td>642.000000</td>\n",
       "      <td>606.000000</td>\n",
       "      <td>506.000000</td>\n",
       "      <td>536.000000</td>\n",
       "      <td>561.00000</td>\n",
       "      <td>680.000000</td>\n",
       "      <td>...</td>\n",
       "      <td>654.000000</td>\n",
       "      <td>528.000000</td>\n",
       "      <td>614.000000</td>\n",
       "      <td>516.000000</td>\n",
       "      <td>653.000000</td>\n",
       "      <td>646.000000</td>\n",
       "      <td>829.000000</td>\n",
       "      <td>505.000000</td>\n",
       "      <td>807.00000</td>\n",
       "      <td>621.000000</td>\n",
       "    </tr>\n",
       "  </tbody>\n",
       "</table>\n",
       "<p>8 rows × 30 columns</p>\n",
       "</div>"
      ],
      "text/plain": [
       "                 0            1            2            3            4  \\\n",
       "count  2000.000000  2000.000000  2000.000000  2000.000000  2000.000000   \n",
       "mean    514.450000   488.665000   477.888000   488.793000   507.522500   \n",
       "std      42.190645    14.278821    11.473808    40.446955    36.961528   \n",
       "min     362.000000   427.000000   442.000000   335.000000   371.000000   \n",
       "25%     485.000000   479.000000   470.000000   460.750000   483.000000   \n",
       "50%     513.000000   489.000000   477.000000   489.000000   507.000000   \n",
       "75%     543.000000   498.000000   486.000000   515.000000   531.000000   \n",
       "max     668.000000   537.000000   514.000000   661.000000   642.000000   \n",
       "\n",
       "                 5            6            7           8            9  ...  \\\n",
       "count  2000.000000  2000.000000  2000.000000  2000.00000  2000.000000  ...   \n",
       "mean    499.658500   478.436500   489.607500   495.38450   512.823500  ...   \n",
       "std      28.798395     7.785967    14.569474    19.34745    43.284502  ...   \n",
       "min     415.000000   453.000000   433.000000   424.00000   350.000000  ...   \n",
       "25%     480.000000   473.000000   480.000000   482.00000   484.000000  ...   \n",
       "50%     499.000000   478.000000   490.000000   495.00000   512.000000  ...   \n",
       "75%     518.000000   483.000000   499.000000   508.00000   542.000000  ...   \n",
       "max     606.000000   506.000000   536.000000   561.00000   680.000000  ...   \n",
       "\n",
       "                20           21           22           23           24  \\\n",
       "count  2000.000000  2000.000000  2000.000000  2000.000000  2000.000000   \n",
       "mean    504.674000   482.099500   485.000500   479.121000   498.843500   \n",
       "std      40.995403    11.934899    43.010678    11.505153    53.677655   \n",
       "min     378.000000   441.000000   367.000000   435.000000   333.000000   \n",
       "25%     477.000000   474.000000   449.000000   471.000000   454.000000   \n",
       "50%     504.000000   482.000000   485.000000   479.000000   498.500000   \n",
       "75%     532.000000   490.000000   521.000000   487.000000   543.000000   \n",
       "max     654.000000   528.000000   614.000000   516.000000   653.000000   \n",
       "\n",
       "                25           26           27          28           29  \n",
       "count  2000.000000  2000.000000  2000.000000  2000.00000  2000.000000  \n",
       "mean    479.587500   500.472000   477.593500   481.42600   480.398000  \n",
       "std      51.313223    96.954852     9.268938   113.46729    44.456189  \n",
       "min     317.000000   207.000000   450.000000    84.00000   347.000000  \n",
       "25%     435.000000   433.750000   470.000000   398.75000   451.000000  \n",
       "50%     480.000000   496.000000   478.000000   487.50000   480.000000  \n",
       "75%     522.000000   568.000000   485.000000   562.00000   512.000000  \n",
       "max     646.000000   829.000000   505.000000   807.00000   621.000000  \n",
       "\n",
       "[8 rows x 30 columns]"
      ]
     },
     "execution_count": 5,
     "metadata": {},
     "output_type": "execute_result"
    }
   ],
   "source": [
    "X_train.describe()"
   ]
  },
  {
   "cell_type": "code",
   "execution_count": 6,
   "id": "fd5850d4",
   "metadata": {},
   "outputs": [
    {
     "name": "stdout",
     "output_type": "stream",
     "text": [
      "<class 'pandas.core.frame.DataFrame'>\n",
      "RangeIndex: 600 entries, 0 to 599\n",
      "Data columns (total 30 columns):\n",
      " #   Column  Non-Null Count  Dtype\n",
      "---  ------  --------------  -----\n",
      " 0   0       600 non-null    int64\n",
      " 1   1       600 non-null    int64\n",
      " 2   2       600 non-null    int64\n",
      " 3   3       600 non-null    int64\n",
      " 4   4       600 non-null    int64\n",
      " 5   5       600 non-null    int64\n",
      " 6   6       600 non-null    int64\n",
      " 7   7       600 non-null    int64\n",
      " 8   8       600 non-null    int64\n",
      " 9   9       600 non-null    int64\n",
      " 10  10      600 non-null    int64\n",
      " 11  11      600 non-null    int64\n",
      " 12  12      600 non-null    int64\n",
      " 13  13      600 non-null    int64\n",
      " 14  14      600 non-null    int64\n",
      " 15  15      600 non-null    int64\n",
      " 16  16      600 non-null    int64\n",
      " 17  17      600 non-null    int64\n",
      " 18  18      600 non-null    int64\n",
      " 19  19      600 non-null    int64\n",
      " 20  20      600 non-null    int64\n",
      " 21  21      600 non-null    int64\n",
      " 22  22      600 non-null    int64\n",
      " 23  23      600 non-null    int64\n",
      " 24  24      600 non-null    int64\n",
      " 25  25      600 non-null    int64\n",
      " 26  26      600 non-null    int64\n",
      " 27  27      600 non-null    int64\n",
      " 28  28      600 non-null    int64\n",
      " 29  29      600 non-null    int64\n",
      "dtypes: int64(30)\n",
      "memory usage: 140.8 KB\n"
     ]
    }
   ],
   "source": [
    "X_test.info()"
   ]
  },
  {
   "cell_type": "markdown",
   "id": "1189cf0a",
   "metadata": {},
   "source": [
    "Nie ma braków danych, wszystkie zmienne są numeryczne."
   ]
  },
  {
   "cell_type": "code",
   "execution_count": 7,
   "id": "2fced3f5",
   "metadata": {
    "scrolled": true
   },
   "outputs": [
    {
     "data": {
      "text/plain": [
       "array([[<AxesSubplot:title={'center':'0'}>,\n",
       "        <AxesSubplot:title={'center':'1'}>,\n",
       "        <AxesSubplot:title={'center':'2'}>,\n",
       "        <AxesSubplot:title={'center':'3'}>,\n",
       "        <AxesSubplot:title={'center':'4'}>],\n",
       "       [<AxesSubplot:title={'center':'5'}>,\n",
       "        <AxesSubplot:title={'center':'6'}>,\n",
       "        <AxesSubplot:title={'center':'7'}>,\n",
       "        <AxesSubplot:title={'center':'8'}>,\n",
       "        <AxesSubplot:title={'center':'9'}>],\n",
       "       [<AxesSubplot:title={'center':'10'}>,\n",
       "        <AxesSubplot:title={'center':'11'}>,\n",
       "        <AxesSubplot:title={'center':'12'}>,\n",
       "        <AxesSubplot:title={'center':'13'}>,\n",
       "        <AxesSubplot:title={'center':'14'}>],\n",
       "       [<AxesSubplot:title={'center':'15'}>,\n",
       "        <AxesSubplot:title={'center':'16'}>,\n",
       "        <AxesSubplot:title={'center':'17'}>,\n",
       "        <AxesSubplot:title={'center':'18'}>,\n",
       "        <AxesSubplot:title={'center':'19'}>],\n",
       "       [<AxesSubplot:title={'center':'20'}>,\n",
       "        <AxesSubplot:title={'center':'21'}>,\n",
       "        <AxesSubplot:title={'center':'22'}>,\n",
       "        <AxesSubplot:title={'center':'23'}>,\n",
       "        <AxesSubplot:title={'center':'24'}>],\n",
       "       [<AxesSubplot:title={'center':'25'}>,\n",
       "        <AxesSubplot:title={'center':'26'}>,\n",
       "        <AxesSubplot:title={'center':'27'}>,\n",
       "        <AxesSubplot:title={'center':'28'}>,\n",
       "        <AxesSubplot:title={'center':'29'}>]], dtype=object)"
      ]
     },
     "execution_count": 7,
     "metadata": {},
     "output_type": "execute_result"
    },
    {
     "data": {
      "image/png": "[encoded data removed]",
      "text/plain": [
       "<Figure size 432x288 with 30 Axes>"
      ]
     },
     "metadata": {
      "needs_background": "light"
     },
     "output_type": "display_data"
    }
   ],
   "source": [
    "X_train.hist(sharex = False, sharey = False, bins = 50)"
   ]
  },
  {
   "cell_type": "markdown",
   "id": "57a5a87b",
   "metadata": {},
   "source": [
    "Podzielimy nasz zbiór treningowy na nowe zbiory: treningowy i testowy w proporcji 9:1."
   ]
  },
  {
   "cell_type": "code",
   "execution_count": 8,
   "id": "71f93783",
   "metadata": {},
   "outputs": [],
   "source": [
    "X_train_train, X_train_test, y_train_train, y_train_test = train_test_split(X_train, y_train, \n",
    "                                                                            random_state = 320584, test_size = 0.1)"
   ]
  },
  {
   "cell_type": "markdown",
   "id": "661108f4",
   "metadata": {},
   "source": [
    "## Selekcja zmiennych (PCA)"
   ]
  },
  {
   "cell_type": "markdown",
   "id": "46cf355b",
   "metadata": {},
   "source": [
    "Sprawdzamy, ile zmiennych okaże się zbędnych."
   ]
  },
  {
   "cell_type": "code",
   "execution_count": null,
   "id": "202afb2e",
   "metadata": {},
   "outputs": [],
   "source": [
    "nums = np.arange(31)\n",
    "var_ratio = []\n",
    "for num in nums:\n",
    "  pca = PCA(n_components=num)\n",
    "  pca.fit(X_train_train)\n",
    "  var_ratio.append(np.sum(pca.explained_variance_ratio_))"
   ]
  },
  {
   "cell_type": "code",
   "execution_count": null,
   "id": "57dc7184",
   "metadata": {},
   "outputs": [],
   "source": [
    "sns.lineplot(x = nums, y = var_ratio).set(xlabel = \"n_components\", ylabel = \"explained_variance_ratio_\")\n",
    "plt.grid()\n",
    "plt.show()"
   ]
  },
  {
   "cell_type": "code",
   "execution_count": null,
   "id": "47c8d361",
   "metadata": {},
   "outputs": [],
   "source": [
    "np.argmax(np.array(var_ratio) > 0.95)"
   ]
  },
  {
   "cell_type": "code",
   "execution_count": null,
   "id": "34ad6592",
   "metadata": {},
   "outputs": [],
   "source": [
    "pca = PCA(n_components = 15)\n",
    "X_train_train_pca = pca.fit_transform(X_train_train)\n",
    "X_train_test_pca = pca.transform(X_train_test)"
   ]
  },
  {
   "cell_type": "markdown",
   "id": "f8b1d10f",
   "metadata": {},
   "source": [
    "## Wybór modelu"
   ]
  },
  {
   "cell_type": "code",
   "execution_count": 9,
   "id": "f90ff54a",
   "metadata": {},
   "outputs": [],
   "source": [
    "modeliki = []\n",
    "punkciki = []"
   ]
  },
  {
   "cell_type": "markdown",
   "id": "9ef0cd79",
   "metadata": {},
   "source": [
    "#### Model 1"
   ]
  },
  {
   "cell_type": "code",
   "execution_count": 10,
   "id": "572f29c2",
   "metadata": {},
   "outputs": [],
   "source": [
    "bagging_kneighbors50 = BaggingClassifier(base_estimator = KNeighborsClassifier(), \n",
    "                                  n_estimators = 50, random_state = 320584)"
   ]
  },
  {
   "cell_type": "code",
   "execution_count": 11,
   "id": "3afe4f5d",
   "metadata": {},
   "outputs": [
    {
     "data": {
      "text/plain": [
       "BaggingClassifier(base_estimator=KNeighborsClassifier(), n_estimators=50,\n",
       "                  random_state=320584)"
      ]
     },
     "execution_count": 11,
     "metadata": {},
     "output_type": "execute_result"
    }
   ],
   "source": [
    "bagging_kneighbors50.fit(X_train_train, y_train_train[\"0\"])"
   ]
  },
  {
   "cell_type": "code",
   "execution_count": 12,
   "id": "2209caee",
   "metadata": {},
   "outputs": [
    {
     "data": {
      "text/plain": [
       "['BaggingClassifier50KNN']"
      ]
     },
     "execution_count": 12,
     "metadata": {},
     "output_type": "execute_result"
    }
   ],
   "source": [
    "modeliki.append(\"BaggingClassifier50KNN\")\n",
    "modeliki"
   ]
  },
  {
   "cell_type": "code",
   "execution_count": 13,
   "id": "c7ad1398",
   "metadata": {},
   "outputs": [],
   "source": [
    "y_train_train_pred1 = bagging_kneighbors50.predict(X_train_train)\n",
    "y_train_test_pred1 = bagging_kneighbors50.predict(X_train_test)"
   ]
  },
  {
   "cell_type": "code",
   "execution_count": 14,
   "id": "b2f6eb1f",
   "metadata": {},
   "outputs": [
    {
     "name": "stdout",
     "output_type": "stream",
     "text": [
      "Na części treningowej: 0.8497516418308497\n",
      "Na części testowej: 0.7680713781631213\n"
     ]
    }
   ],
   "source": [
    "print(f\"Na części treningowej: {balanced_accuracy_score(y_train_train, y_train_train_pred1)}\")\n",
    "print(f\"Na części testowej: {balanced_accuracy_score(y_train_test, y_train_test_pred1)}\")"
   ]
  },
  {
   "cell_type": "code",
   "execution_count": 15,
   "id": "ba271650",
   "metadata": {},
   "outputs": [
    {
     "data": {
      "text/plain": [
       "[0.7680713781631213]"
      ]
     },
     "execution_count": 15,
     "metadata": {},
     "output_type": "execute_result"
    }
   ],
   "source": [
    "punkciki.append(balanced_accuracy_score(y_train_test, y_train_test_pred1))\n",
    "punkciki"
   ]
  },
  {
   "cell_type": "markdown",
   "id": "2675e233",
   "metadata": {},
   "source": [
    "#### Model 2"
   ]
  },
  {
   "cell_type": "code",
   "execution_count": 16,
   "id": "64a597cd",
   "metadata": {},
   "outputs": [],
   "source": [
    "params = {\n",
    "    'base_estimator__n_neighbors': [3, 4, 5, 6, 7, 9, 11]\n",
    "    }"
   ]
  },
  {
   "cell_type": "code",
   "execution_count": 17,
   "id": "300fbe96",
   "metadata": {},
   "outputs": [],
   "source": [
    "grid = GridSearchCV(bagging_kneighbors50, cv = 3,\n",
    "                             param_grid = params, scoring = 'balanced_accuracy')"
   ]
  },
  {
   "cell_type": "code",
   "execution_count": 18,
   "id": "d087c26c",
   "metadata": {},
   "outputs": [
    {
     "data": {
      "text/plain": [
       "GridSearchCV(cv=3,\n",
       "             estimator=BaggingClassifier(base_estimator=KNeighborsClassifier(),\n",
       "                                         n_estimators=50, random_state=320584),\n",
       "             param_grid={'base_estimator__n_neighbors': [3, 4, 5, 6, 7, 9, 11]},\n",
       "             scoring='balanced_accuracy')"
      ]
     },
     "execution_count": 18,
     "metadata": {},
     "output_type": "execute_result"
    }
   ],
   "source": [
    "grid.fit(X_train_train, y_train_train[\"0\"])"
   ]
  },
  {
   "cell_type": "code",
   "execution_count": 19,
   "id": "a23d675f",
   "metadata": {},
   "outputs": [
    {
     "data": {
      "text/plain": [
       "{'base_estimator__n_neighbors': 11}"
      ]
     },
     "execution_count": 19,
     "metadata": {},
     "output_type": "execute_result"
    }
   ],
   "source": [
    "grid.best_params_"
   ]
  },
  {
   "cell_type": "code",
   "execution_count": 20,
   "id": "c812d481",
   "metadata": {},
   "outputs": [
    {
     "data": {
      "text/plain": [
       "['BaggingClassifier50KNN', 'BaggingClassifier50KNNGridSearch']"
      ]
     },
     "execution_count": 20,
     "metadata": {},
     "output_type": "execute_result"
    }
   ],
   "source": [
    "modeliki.append(\"BaggingClassifier50KNNGridSearch\")\n",
    "modeliki"
   ]
  },
  {
   "cell_type": "code",
   "execution_count": 21,
   "id": "728598e1",
   "metadata": {},
   "outputs": [],
   "source": [
    "y_train_train_pred2 = grid.predict(X_train_train)\n",
    "y_train_test_pred2 = grid.predict(X_train_test)"
   ]
  },
  {
   "cell_type": "code",
   "execution_count": 22,
   "id": "5e348bb3",
   "metadata": {},
   "outputs": [
    {
     "name": "stdout",
     "output_type": "stream",
     "text": [
      "Na części treningowej: 0.8052916402751387\n",
      "Na części testowej: 0.7552676681117048\n"
     ]
    }
   ],
   "source": [
    "print(f\"Na części treningowej: {balanced_accuracy_score(y_train_train, y_train_train_pred2)}\")\n",
    "print(f\"Na części testowej: {balanced_accuracy_score(y_train_test, y_train_test_pred2)}\")"
   ]
  },
  {
   "cell_type": "code",
   "execution_count": 23,
   "id": "e9419af1",
   "metadata": {},
   "outputs": [
    {
     "data": {
      "text/plain": [
       "[0.7680713781631213, 0.7552676681117048]"
      ]
     },
     "execution_count": 23,
     "metadata": {},
     "output_type": "execute_result"
    }
   ],
   "source": [
    "punkciki.append(balanced_accuracy_score(y_train_test, y_train_test_pred2))\n",
    "punkciki"
   ]
  },
  {
   "cell_type": "markdown",
   "id": "9c15c36d",
   "metadata": {},
   "source": [
    "#### Model 3"
   ]
  },
  {
   "cell_type": "code",
   "execution_count": 24,
   "id": "230bf6aa",
   "metadata": {},
   "outputs": [],
   "source": [
    "las = RandomForestClassifier(random_state = 320584)"
   ]
  },
  {
   "cell_type": "code",
   "execution_count": 25,
   "id": "2b39fa89",
   "metadata": {},
   "outputs": [
    {
     "data": {
      "text/plain": [
       "RandomForestClassifier(random_state=320584)"
      ]
     },
     "execution_count": 25,
     "metadata": {},
     "output_type": "execute_result"
    }
   ],
   "source": [
    "las.fit(X_train_train, y_train_train[\"0\"])"
   ]
  },
  {
   "cell_type": "code",
   "execution_count": 26,
   "id": "64f8451e",
   "metadata": {},
   "outputs": [
    {
     "data": {
      "text/plain": [
       "['BaggingClassifier50KNN', 'BaggingClassifier50KNNGridSearch', 'RandomForest']"
      ]
     },
     "execution_count": 26,
     "metadata": {},
     "output_type": "execute_result"
    }
   ],
   "source": [
    "modeliki.append(\"RandomForest\")\n",
    "modeliki"
   ]
  },
  {
   "cell_type": "code",
   "execution_count": 27,
   "id": "5fdd1928",
   "metadata": {},
   "outputs": [],
   "source": [
    "y_train_train_pred3 = las.predict(X_train_train)\n",
    "y_train_test_pred3 = las.predict(X_train_test)"
   ]
  },
  {
   "cell_type": "code",
   "execution_count": 28,
   "id": "ea40f6b9",
   "metadata": {},
   "outputs": [
    {
     "name": "stdout",
     "output_type": "stream",
     "text": [
      "Na części treningowej: 1.0\n",
      "Na części testowej: 0.8497328359713681\n"
     ]
    }
   ],
   "source": [
    "print(f\"Na części treningowej: {balanced_accuracy_score(y_train_train, y_train_train_pred3)}\")\n",
    "print(f\"Na części testowej: {balanced_accuracy_score(y_train_test, y_train_test_pred3)}\")"
   ]
  },
  {
   "cell_type": "code",
   "execution_count": 29,
   "id": "f7c71ffd",
   "metadata": {},
   "outputs": [
    {
     "data": {
      "text/plain": [
       "[0.7680713781631213, 0.7552676681117048, 0.8497328359713681]"
      ]
     },
     "execution_count": 29,
     "metadata": {},
     "output_type": "execute_result"
    }
   ],
   "source": [
    "punkciki.append(balanced_accuracy_score(y_train_test, y_train_test_pred3))\n",
    "punkciki"
   ]
  },
  {
   "cell_type": "markdown",
   "id": "e647cdbe",
   "metadata": {},
   "source": [
    "#### Model 4"
   ]
  },
  {
   "cell_type": "code",
   "execution_count": 30,
   "id": "a68729c3",
   "metadata": {},
   "outputs": [],
   "source": [
    "params_rf = {\n",
    "    'n_estimators': [100, 200, 300, 400, 500]\n",
    "    }"
   ]
  },
  {
   "cell_type": "code",
   "execution_count": 31,
   "id": "c219281d",
   "metadata": {},
   "outputs": [],
   "source": [
    " grid_rf= GridSearchCV(las, cv = 3, param_grid = params_rf, scoring = 'balanced_accuracy')"
   ]
  },
  {
   "cell_type": "code",
   "execution_count": 32,
   "id": "f0bd3682",
   "metadata": {
    "scrolled": true
   },
   "outputs": [
    {
     "data": {
      "text/plain": [
       "GridSearchCV(cv=3, estimator=RandomForestClassifier(random_state=320584),\n",
       "             param_grid={'n_estimators': [100, 200, 300, 400, 500]},\n",
       "             scoring='balanced_accuracy')"
      ]
     },
     "execution_count": 32,
     "metadata": {},
     "output_type": "execute_result"
    }
   ],
   "source": [
    "grid_rf.fit(X_train_train, y_train_train[\"0\"])"
   ]
  },
  {
   "cell_type": "code",
   "execution_count": 33,
   "id": "991d274c",
   "metadata": {},
   "outputs": [
    {
     "data": {
      "text/plain": [
       "{'n_estimators': 200}"
      ]
     },
     "execution_count": 33,
     "metadata": {},
     "output_type": "execute_result"
    }
   ],
   "source": [
    "grid_rf.best_params_"
   ]
  },
  {
   "cell_type": "code",
   "execution_count": 34,
   "id": "7e0cf40c",
   "metadata": {},
   "outputs": [
    {
     "data": {
      "text/plain": [
       "['BaggingClassifier50KNN',\n",
       " 'BaggingClassifier50KNNGridSearch',\n",
       " 'RandomForest',\n",
       " 'RandomForestGridSearch']"
      ]
     },
     "execution_count": 34,
     "metadata": {},
     "output_type": "execute_result"
    }
   ],
   "source": [
    "modeliki.append(\"RandomForestGridSearch\")\n",
    "modeliki"
   ]
  },
  {
   "cell_type": "code",
   "execution_count": 35,
   "id": "307332e5",
   "metadata": {},
   "outputs": [],
   "source": [
    "y_train_train_pred4 = grid_rf.predict(X_train_train)\n",
    "y_train_test_pred4 = grid_rf.predict(X_train_test)"
   ]
  },
  {
   "cell_type": "code",
   "execution_count": 36,
   "id": "e9d8bcf0",
   "metadata": {},
   "outputs": [
    {
     "name": "stdout",
     "output_type": "stream",
     "text": [
      "Na części treningowej: 1.0\n",
      "Na części testowej: 0.8295695130557517\n"
     ]
    }
   ],
   "source": [
    "print(f\"Na części treningowej: {balanced_accuracy_score(y_train_train, y_train_train_pred4)}\")\n",
    "print(f\"Na części testowej: {balanced_accuracy_score(y_train_test, y_train_test_pred4)}\")"
   ]
  },
  {
   "cell_type": "code",
   "execution_count": 37,
   "id": "2d39a341",
   "metadata": {},
   "outputs": [
    {
     "data": {
      "text/plain": [
       "[0.7680713781631213,\n",
       " 0.7552676681117048,\n",
       " 0.8497328359713681,\n",
       " 0.8295695130557517]"
      ]
     },
     "execution_count": 37,
     "metadata": {},
     "output_type": "execute_result"
    }
   ],
   "source": [
    "punkciki.append(balanced_accuracy_score(y_train_test, y_train_test_pred4))\n",
    "punkciki"
   ]
  },
  {
   "cell_type": "markdown",
   "id": "06e28283",
   "metadata": {},
   "source": [
    "#### Model 5"
   ]
  },
  {
   "cell_type": "code",
   "execution_count": 38,
   "id": "f3037579",
   "metadata": {},
   "outputs": [],
   "source": [
    "extra = ExtraTreesClassifier(random_state = 320584)"
   ]
  },
  {
   "cell_type": "code",
   "execution_count": 39,
   "id": "ece6fa56",
   "metadata": {},
   "outputs": [
    {
     "data": {
      "text/plain": [
       "ExtraTreesClassifier(random_state=320584)"
      ]
     },
     "execution_count": 39,
     "metadata": {},
     "output_type": "execute_result"
    }
   ],
   "source": [
    "extra.fit(X_train_train, y_train_train[\"0\"])"
   ]
  },
  {
   "cell_type": "code",
   "execution_count": 40,
   "id": "7d224af2",
   "metadata": {},
   "outputs": [
    {
     "data": {
      "text/plain": [
       "['BaggingClassifier50KNN',\n",
       " 'BaggingClassifier50KNNGridSearch',\n",
       " 'RandomForest',\n",
       " 'RandomForestGridSearch',\n",
       " 'ExtraTrees']"
      ]
     },
     "execution_count": 40,
     "metadata": {},
     "output_type": "execute_result"
    }
   ],
   "source": [
    "modeliki.append(\"ExtraTrees\")\n",
    "modeliki"
   ]
  },
  {
   "cell_type": "code",
   "execution_count": 41,
   "id": "0e3c7f5e",
   "metadata": {},
   "outputs": [],
   "source": [
    "y_train_train_pred5 = extra.predict(X_train_train)\n",
    "y_train_test_pred5 = extra.predict(X_train_test)"
   ]
  },
  {
   "cell_type": "code",
   "execution_count": 42,
   "id": "6514dcf2",
   "metadata": {},
   "outputs": [
    {
     "name": "stdout",
     "output_type": "stream",
     "text": [
      "Na części treningowej: 1.0\n",
      "Na części testowej: 0.8470107873777599\n"
     ]
    }
   ],
   "source": [
    "print(f\"Na części treningowej: {balanced_accuracy_score(y_train_train, y_train_train_pred5)}\")\n",
    "print(f\"Na części testowej: {balanced_accuracy_score(y_train_test, y_train_test_pred5)}\")"
   ]
  },
  {
   "cell_type": "code",
   "execution_count": 43,
   "id": "2c0b573e",
   "metadata": {},
   "outputs": [
    {
     "data": {
      "text/plain": [
       "[0.7680713781631213,\n",
       " 0.7552676681117048,\n",
       " 0.8497328359713681,\n",
       " 0.8295695130557517,\n",
       " 0.8470107873777599]"
      ]
     },
     "execution_count": 43,
     "metadata": {},
     "output_type": "execute_result"
    }
   ],
   "source": [
    "punkciki.append(balanced_accuracy_score(y_train_test, y_train_test_pred5))\n",
    "punkciki"
   ]
  },
  {
   "cell_type": "markdown",
   "id": "f9c503b3",
   "metadata": {},
   "source": [
    "#### Model 6"
   ]
  },
  {
   "cell_type": "code",
   "execution_count": 44,
   "id": "da29b4b7",
   "metadata": {},
   "outputs": [],
   "source": [
    "gradient = GradientBoostingClassifier(random_state = 320584)"
   ]
  },
  {
   "cell_type": "code",
   "execution_count": 45,
   "id": "76c2d0e9",
   "metadata": {},
   "outputs": [
    {
     "data": {
      "text/plain": [
       "GradientBoostingClassifier(random_state=320584)"
      ]
     },
     "execution_count": 45,
     "metadata": {},
     "output_type": "execute_result"
    }
   ],
   "source": [
    "gradient.fit(X_train_train, y_train_train[\"0\"])"
   ]
  },
  {
   "cell_type": "code",
   "execution_count": 46,
   "id": "e7e0fa2e",
   "metadata": {},
   "outputs": [
    {
     "data": {
      "text/plain": [
       "['BaggingClassifier50KNN',\n",
       " 'BaggingClassifier50KNNGridSearch',\n",
       " 'RandomForest',\n",
       " 'RandomForestGridSearch',\n",
       " 'ExtraTrees',\n",
       " 'GradientBoosting']"
      ]
     },
     "execution_count": 46,
     "metadata": {},
     "output_type": "execute_result"
    }
   ],
   "source": [
    "modeliki.append(\"GradientBoosting\")\n",
    "modeliki"
   ]
  },
  {
   "cell_type": "code",
   "execution_count": 47,
   "id": "24bfbe2d",
   "metadata": {},
   "outputs": [],
   "source": [
    "y_train_train_pred6 = gradient.predict(X_train_train)\n",
    "y_train_test_pred6 = gradient.predict(X_train_test)"
   ]
  },
  {
   "cell_type": "code",
   "execution_count": 48,
   "id": "d2e7a46d",
   "metadata": {},
   "outputs": [
    {
     "name": "stdout",
     "output_type": "stream",
     "text": [
      "Na części treningowej: 0.9111911191119112\n",
      "Na części testowej: 0.8341062607117653\n"
     ]
    }
   ],
   "source": [
    "print(f\"Na części treningowej: {balanced_accuracy_score(y_train_train, y_train_train_pred6)}\")\n",
    "print(f\"Na części testowej: {balanced_accuracy_score(y_train_test, y_train_test_pred6)}\")"
   ]
  },
  {
   "cell_type": "code",
   "execution_count": 49,
   "id": "610ae032",
   "metadata": {},
   "outputs": [
    {
     "data": {
      "text/plain": [
       "[0.7680713781631213,\n",
       " 0.7552676681117048,\n",
       " 0.8497328359713681,\n",
       " 0.8295695130557517,\n",
       " 0.8470107873777599,\n",
       " 0.8341062607117653]"
      ]
     },
     "execution_count": 49,
     "metadata": {},
     "output_type": "execute_result"
    }
   ],
   "source": [
    "punkciki.append(balanced_accuracy_score(y_train_test, y_train_test_pred6))\n",
    "punkciki"
   ]
  },
  {
   "cell_type": "markdown",
   "id": "7bccc2dc",
   "metadata": {},
   "source": [
    "#### Model 7"
   ]
  },
  {
   "cell_type": "code",
   "execution_count": 50,
   "id": "0d260f88",
   "metadata": {},
   "outputs": [],
   "source": [
    "clf1 = LogisticRegression(random_state = 320584, max_iter = 1000)\n",
    "clf2 = RandomForestClassifier(random_state = 320584)\n",
    "clf3 = KNeighborsClassifier()"
   ]
  },
  {
   "cell_type": "code",
   "execution_count": 51,
   "id": "26354942",
   "metadata": {},
   "outputs": [],
   "source": [
    "glosy = VotingClassifier(estimators=[('lr', clf1),\n",
    "                             ('rf', clf2),\n",
    "                             ('knn', clf3)])"
   ]
  },
  {
   "cell_type": "code",
   "execution_count": 52,
   "id": "59690e9c",
   "metadata": {},
   "outputs": [
    {
     "data": {
      "text/plain": [
       "VotingClassifier(estimators=[('lr',\n",
       "                              LogisticRegression(max_iter=1000,\n",
       "                                                 random_state=320584)),\n",
       "                             ('rf',\n",
       "                              RandomForestClassifier(random_state=320584)),\n",
       "                             ('knn', KNeighborsClassifier())])"
      ]
     },
     "execution_count": 52,
     "metadata": {},
     "output_type": "execute_result"
    }
   ],
   "source": [
    "glosy.fit(X_train_train, y_train_train[\"0\"])"
   ]
  },
  {
   "cell_type": "code",
   "execution_count": 53,
   "id": "d8177cc5",
   "metadata": {},
   "outputs": [
    {
     "data": {
      "text/plain": [
       "['BaggingClassifier50KNN',\n",
       " 'BaggingClassifier50KNNGridSearch',\n",
       " 'RandomForest',\n",
       " 'RandomForestGridSearch',\n",
       " 'ExtraTrees',\n",
       " 'GradientBoosting',\n",
       " 'Voting']"
      ]
     },
     "execution_count": 53,
     "metadata": {},
     "output_type": "execute_result"
    }
   ],
   "source": [
    "modeliki.append(\"Voting\")\n",
    "modeliki"
   ]
  },
  {
   "cell_type": "code",
   "execution_count": 54,
   "id": "4f41c688",
   "metadata": {},
   "outputs": [],
   "source": [
    "y_train_train_pred7 = glosy.predict(X_train_train)\n",
    "y_train_test_pred7 = glosy.predict(X_train_test)"
   ]
  },
  {
   "cell_type": "code",
   "execution_count": 55,
   "id": "18e06800",
   "metadata": {},
   "outputs": [
    {
     "name": "stdout",
     "output_type": "stream",
     "text": [
      "Na części treningowej: 0.905973930726406\n",
      "Na części testowej: 0.794686964411735\n"
     ]
    }
   ],
   "source": [
    "print(f\"Na części treningowej: {balanced_accuracy_score(y_train_train, y_train_train_pred7)}\")\n",
    "print(f\"Na części testowej: {balanced_accuracy_score(y_train_test, y_train_test_pred7)}\")"
   ]
  },
  {
   "cell_type": "code",
   "execution_count": 56,
   "id": "8dd8be8d",
   "metadata": {},
   "outputs": [
    {
     "data": {
      "text/plain": [
       "[0.7680713781631213,\n",
       " 0.7552676681117048,\n",
       " 0.8497328359713681,\n",
       " 0.8295695130557517,\n",
       " 0.8470107873777599,\n",
       " 0.8341062607117653,\n",
       " 0.794686964411735]"
      ]
     },
     "execution_count": 56,
     "metadata": {},
     "output_type": "execute_result"
    }
   ],
   "source": [
    "punkciki.append(balanced_accuracy_score(y_train_test, y_train_test_pred7))\n",
    "punkciki"
   ]
  },
  {
   "cell_type": "markdown",
   "id": "dd26843d",
   "metadata": {},
   "source": [
    "### Podsumowanie "
   ]
  },
  {
   "cell_type": "code",
   "execution_count": 57,
   "id": "5b759ef8",
   "metadata": {},
   "outputs": [],
   "source": [
    "results = pd.DataFrame({'model' : modeliki,\n",
    "                        'bal_acc' : punkciki })"
   ]
  },
  {
   "cell_type": "code",
   "execution_count": 58,
   "id": "d1d125e7",
   "metadata": {},
   "outputs": [
    {
     "data": {
      "text/html": [
       "<div>\n",
       "<style scoped>\n",
       "    .dataframe tbody tr th:only-of-type {\n",
       "        vertical-align: middle;\n",
       "    }\n",
       "\n",
       "    .dataframe tbody tr th {\n",
       "        vertical-align: top;\n",
       "    }\n",
       "\n",
       "    .dataframe thead th {\n",
       "        text-align: right;\n",
       "    }\n",
       "</style>\n",
       "<table border=\"1\" class=\"dataframe\">\n",
       "  <thead>\n",
       "    <tr style=\"text-align: right;\">\n",
       "      <th></th>\n",
       "      <th>model</th>\n",
       "      <th>bal_acc</th>\n",
       "    </tr>\n",
       "  </thead>\n",
       "  <tbody>\n",
       "    <tr>\n",
       "      <th>1</th>\n",
       "      <td>BaggingClassifier50KNNGridSearch</td>\n",
       "      <td>0.755268</td>\n",
       "    </tr>\n",
       "    <tr>\n",
       "      <th>0</th>\n",
       "      <td>BaggingClassifier50KNN</td>\n",
       "      <td>0.768071</td>\n",
       "    </tr>\n",
       "    <tr>\n",
       "      <th>6</th>\n",
       "      <td>Voting</td>\n",
       "      <td>0.794687</td>\n",
       "    </tr>\n",
       "    <tr>\n",
       "      <th>3</th>\n",
       "      <td>RandomForestGridSearch</td>\n",
       "      <td>0.829570</td>\n",
       "    </tr>\n",
       "    <tr>\n",
       "      <th>5</th>\n",
       "      <td>GradientBoosting</td>\n",
       "      <td>0.834106</td>\n",
       "    </tr>\n",
       "    <tr>\n",
       "      <th>4</th>\n",
       "      <td>ExtraTrees</td>\n",
       "      <td>0.847011</td>\n",
       "    </tr>\n",
       "    <tr>\n",
       "      <th>2</th>\n",
       "      <td>RandomForest</td>\n",
       "      <td>0.849733</td>\n",
       "    </tr>\n",
       "  </tbody>\n",
       "</table>\n",
       "</div>"
      ],
      "text/plain": [
       "                              model   bal_acc\n",
       "1  BaggingClassifier50KNNGridSearch  0.755268\n",
       "0            BaggingClassifier50KNN  0.768071\n",
       "6                            Voting  0.794687\n",
       "3            RandomForestGridSearch  0.829570\n",
       "5                  GradientBoosting  0.834106\n",
       "4                        ExtraTrees  0.847011\n",
       "2                      RandomForest  0.849733"
      ]
     },
     "execution_count": 58,
     "metadata": {},
     "output_type": "execute_result"
    }
   ],
   "source": [
    "results_sorted = results.sort_values(by = 'bal_acc')\n",
    "results_sorted"
   ]
  },
  {
   "cell_type": "code",
   "execution_count": 59,
   "id": "bd120136",
   "metadata": {},
   "outputs": [
    {
     "data": {
      "image/png": "[encoded data removed]",
      "text/plain": [
       "<Figure size 432x288 with 1 Axes>"
      ]
     },
     "metadata": {
      "needs_background": "light"
     },
     "output_type": "display_data"
    }
   ],
   "source": [
    "plot = sns.barplot(x = results_sorted.bal_acc, y = results_sorted.model, color = 'pink')\n",
    "for index, value in enumerate(results_sorted['bal_acc']):\n",
    "    plot.text(value, index, f'{value:.2f}', color='black', ha=\"center\", va=\"center\")\n",
    "plt.savefig(\"wykres.pdf\", format = \"pdf\", bbox_inches=\"tight\")\n",
    "plt.show()"
   ]
  },
  {
   "cell_type": "markdown",
   "id": "db4e30a4",
   "metadata": {},
   "source": [
    "Będziemy skupiać się na ulepszaniu modelu RandomForest oraz ExtraTrees."
   ]
  },
  {
   "cell_type": "markdown",
   "id": "6f7f927d",
   "metadata": {},
   "source": [
    "### RandomForest"
   ]
  },
  {
   "cell_type": "markdown",
   "id": "2ceaf863",
   "metadata": {},
   "source": [
    "Zbudujemy teraz ten model na wybranych zmiennych, nie na pełnych danych."
   ]
  },
  {
   "cell_type": "code",
   "execution_count": 60,
   "id": "8a2609a9",
   "metadata": {},
   "outputs": [],
   "source": [
    "las = RandomForestClassifier(random_state = 320584)"
   ]
  },
  {
   "cell_type": "code",
   "execution_count": 61,
   "id": "1a4f8e38",
   "metadata": {},
   "outputs": [
    {
     "data": {
      "text/plain": [
       "RandomForestClassifier(random_state=320584)"
      ]
     },
     "execution_count": 61,
     "metadata": {},
     "output_type": "execute_result"
    }
   ],
   "source": [
    "las.fit(X_train_train, y_train_train[\"0\"])"
   ]
  },
  {
   "cell_type": "code",
   "execution_count": 62,
   "id": "4e6ceea3",
   "metadata": {},
   "outputs": [],
   "source": [
    "sfs = SequentialFeatureSelector(las, scoring='balanced_accuracy', cv=3)\n",
    "\n",
    "X_train_train_selected = sfs.fit_transform(X_train_train, y_train_train[\"0\"])\n",
    "X_train_test_selected = sfs.transform(X_train_test)"
   ]
  },
  {
   "cell_type": "code",
   "execution_count": 66,
   "id": "b15dda51",
   "metadata": {},
   "outputs": [
    {
     "name": "stdout",
     "output_type": "stream",
     "text": [
      "<class 'pandas.core.frame.DataFrame'>\n",
      "RangeIndex: 1800 entries, 0 to 1799\n",
      "Data columns (total 15 columns):\n",
      " #   Column  Non-Null Count  Dtype\n",
      "---  ------  --------------  -----\n",
      " 0   0       1800 non-null   int64\n",
      " 1   1       1800 non-null   int64\n",
      " 2   2       1800 non-null   int64\n",
      " 3   3       1800 non-null   int64\n",
      " 4   4       1800 non-null   int64\n",
      " 5   5       1800 non-null   int64\n",
      " 6   6       1800 non-null   int64\n",
      " 7   7       1800 non-null   int64\n",
      " 8   8       1800 non-null   int64\n",
      " 9   9       1800 non-null   int64\n",
      " 10  10      1800 non-null   int64\n",
      " 11  11      1800 non-null   int64\n",
      " 12  12      1800 non-null   int64\n",
      " 13  13      1800 non-null   int64\n",
      " 14  14      1800 non-null   int64\n",
      "dtypes: int64(15)\n",
      "memory usage: 211.1 KB\n"
     ]
    }
   ],
   "source": [
    "pd.DataFrame(X_train_train_selected).info()"
   ]
  },
  {
   "cell_type": "code",
   "execution_count": 67,
   "id": "050acf44",
   "metadata": {},
   "outputs": [
    {
     "data": {
      "text/plain": [
       "RandomForestClassifier(random_state=320584)"
      ]
     },
     "execution_count": 67,
     "metadata": {},
     "output_type": "execute_result"
    }
   ],
   "source": [
    "las.fit(X_train_train_selected, y_train_train[\"0\"])"
   ]
  },
  {
   "cell_type": "code",
   "execution_count": 68,
   "id": "d0b9c6d0",
   "metadata": {},
   "outputs": [],
   "source": [
    "y_train_train_pred9 = las.predict(X_train_train_selected)\n",
    "y_train_test_pred9 = las.predict(X_train_test_selected)"
   ]
  },
  {
   "cell_type": "code",
   "execution_count": 69,
   "id": "de67e421",
   "metadata": {},
   "outputs": [
    {
     "name": "stdout",
     "output_type": "stream",
     "text": [
      "Na części treningowej: 1.0\n",
      "Na części testowej: 0.8872870249017037\n"
     ]
    }
   ],
   "source": [
    "print(f\"Na części treningowej: {balanced_accuracy_score(y_train_train, y_train_train_pred9)}\")\n",
    "print(f\"Na części testowej: {balanced_accuracy_score(y_train_test, y_train_test_pred9)}\")"
   ]
  },
  {
   "cell_type": "code",
   "execution_count": 70,
   "id": "84cc0874",
   "metadata": {},
   "outputs": [],
   "source": [
    "las2 = RandomForestClassifier(random_state = 320584)"
   ]
  },
  {
   "cell_type": "code",
   "execution_count": 71,
   "id": "8f7772d1",
   "metadata": {},
   "outputs": [
    {
     "data": {
      "text/plain": [
       "RandomForestClassifier(random_state=320584)"
      ]
     },
     "execution_count": 71,
     "metadata": {},
     "output_type": "execute_result"
    }
   ],
   "source": [
    "las2.fit(X_train_train, y_train_train[\"0\"])"
   ]
  },
  {
   "cell_type": "code",
   "execution_count": 72,
   "id": "8daf3c5d",
   "metadata": {},
   "outputs": [],
   "source": [
    "sfm = SelectFromModel(las2)"
   ]
  },
  {
   "cell_type": "code",
   "execution_count": 73,
   "id": "20886ace",
   "metadata": {},
   "outputs": [],
   "source": [
    "X_train_train_selected = sfm.fit_transform(X_train_train, y_train_train[\"0\"])\n",
    "X_train_test_selected = sfm.transform(X_train_test)"
   ]
  },
  {
   "cell_type": "code",
   "execution_count": 75,
   "id": "ae4e9999",
   "metadata": {},
   "outputs": [
    {
     "name": "stdout",
     "output_type": "stream",
     "text": [
      "<class 'pandas.core.frame.DataFrame'>\n",
      "RangeIndex: 1800 entries, 0 to 1799\n",
      "Data columns (total 8 columns):\n",
      " #   Column  Non-Null Count  Dtype\n",
      "---  ------  --------------  -----\n",
      " 0   0       1800 non-null   int64\n",
      " 1   1       1800 non-null   int64\n",
      " 2   2       1800 non-null   int64\n",
      " 3   3       1800 non-null   int64\n",
      " 4   4       1800 non-null   int64\n",
      " 5   5       1800 non-null   int64\n",
      " 6   6       1800 non-null   int64\n",
      " 7   7       1800 non-null   int64\n",
      "dtypes: int64(8)\n",
      "memory usage: 112.6 KB\n"
     ]
    }
   ],
   "source": [
    "pd.DataFrame(X_train_train_selected).info()"
   ]
  },
  {
   "cell_type": "code",
   "execution_count": 76,
   "id": "79e3b962",
   "metadata": {},
   "outputs": [
    {
     "data": {
      "text/plain": [
       "RandomForestClassifier(random_state=320584)"
      ]
     },
     "execution_count": 76,
     "metadata": {},
     "output_type": "execute_result"
    }
   ],
   "source": [
    "las2.fit(X_train_train_selected, y_train_train[\"0\"])"
   ]
  },
  {
   "cell_type": "code",
   "execution_count": 77,
   "id": "630c7b0d",
   "metadata": {},
   "outputs": [],
   "source": [
    "y_train_train_pred10 = las2.predict(X_train_train_selected)\n",
    "y_train_test_pred10 = las2.predict(X_train_test_selected)"
   ]
  },
  {
   "cell_type": "code",
   "execution_count": 78,
   "id": "b86be56f",
   "metadata": {},
   "outputs": [
    {
     "name": "stdout",
     "output_type": "stream",
     "text": [
      "Na części treningowej: 1.0\n",
      "Na części testowej: 0.9019558423228149\n"
     ]
    }
   ],
   "source": [
    "print(f\"Na części treningowej: {balanced_accuracy_score(y_train_train, y_train_train_pred10)}\")\n",
    "print(f\"Na części testowej: {balanced_accuracy_score(y_train_test, y_train_test_pred10)}\")"
   ]
  },
  {
   "cell_type": "markdown",
   "id": "9d93df68",
   "metadata": {},
   "source": [
    "### ExtraTrees"
   ]
  },
  {
   "cell_type": "code",
   "execution_count": 79,
   "id": "532a063e",
   "metadata": {},
   "outputs": [],
   "source": [
    "extra = ExtraTreesClassifier(random_state = 320584)"
   ]
  },
  {
   "cell_type": "code",
   "execution_count": 80,
   "id": "bd04614e",
   "metadata": {},
   "outputs": [
    {
     "data": {
      "text/plain": [
       "ExtraTreesClassifier(random_state=320584)"
      ]
     },
     "execution_count": 80,
     "metadata": {},
     "output_type": "execute_result"
    }
   ],
   "source": [
    "extra.fit(X_train_train, y_train_train[\"0\"])"
   ]
  },
  {
   "cell_type": "code",
   "execution_count": 81,
   "id": "0f9de2fd",
   "metadata": {},
   "outputs": [],
   "source": [
    "sfs = SequentialFeatureSelector(extra, scoring='balanced_accuracy', cv=3)\n",
    "\n",
    "X_train_train_selected = sfs.fit_transform(X_train_train, y_train_train[\"0\"])\n",
    "X_train_test_selected = sfs.transform(X_train_test)"
   ]
  },
  {
   "cell_type": "code",
   "execution_count": 82,
   "id": "58586a08",
   "metadata": {},
   "outputs": [
    {
     "name": "stdout",
     "output_type": "stream",
     "text": [
      "<class 'pandas.core.frame.DataFrame'>\n",
      "RangeIndex: 1800 entries, 0 to 1799\n",
      "Data columns (total 15 columns):\n",
      " #   Column  Non-Null Count  Dtype\n",
      "---  ------  --------------  -----\n",
      " 0   0       1800 non-null   int64\n",
      " 1   1       1800 non-null   int64\n",
      " 2   2       1800 non-null   int64\n",
      " 3   3       1800 non-null   int64\n",
      " 4   4       1800 non-null   int64\n",
      " 5   5       1800 non-null   int64\n",
      " 6   6       1800 non-null   int64\n",
      " 7   7       1800 non-null   int64\n",
      " 8   8       1800 non-null   int64\n",
      " 9   9       1800 non-null   int64\n",
      " 10  10      1800 non-null   int64\n",
      " 11  11      1800 non-null   int64\n",
      " 12  12      1800 non-null   int64\n",
      " 13  13      1800 non-null   int64\n",
      " 14  14      1800 non-null   int64\n",
      "dtypes: int64(15)\n",
      "memory usage: 211.1 KB\n"
     ]
    }
   ],
   "source": [
    "pd.DataFrame(X_train_train_selected).info()"
   ]
  },
  {
   "cell_type": "code",
   "execution_count": 83,
   "id": "53b763b2",
   "metadata": {},
   "outputs": [
    {
     "data": {
      "text/plain": [
       "ExtraTreesClassifier(random_state=320584)"
      ]
     },
     "execution_count": 83,
     "metadata": {},
     "output_type": "execute_result"
    }
   ],
   "source": [
    "extra.fit(X_train_train_selected, y_train_train[\"0\"])"
   ]
  },
  {
   "cell_type": "code",
   "execution_count": 84,
   "id": "3ac66681",
   "metadata": {},
   "outputs": [],
   "source": [
    "y_train_train_pred11 = extra.predict(X_train_train_selected)\n",
    "y_train_test_pred11 = extra.predict(X_train_test_selected)"
   ]
  },
  {
   "cell_type": "code",
   "execution_count": 85,
   "id": "84e8bb23",
   "metadata": {},
   "outputs": [
    {
     "name": "stdout",
     "output_type": "stream",
     "text": [
      "Na części treningowej: 1.0\n",
      "Na części testowej: 0.8653090029236818\n"
     ]
    }
   ],
   "source": [
    "print(f\"Na części treningowej: {balanced_accuracy_score(y_train_train, y_train_train_pred11)}\")\n",
    "print(f\"Na części testowej: {balanced_accuracy_score(y_train_test, y_train_test_pred11)}\")"
   ]
  },
  {
   "cell_type": "code",
   "execution_count": 86,
   "id": "34ef1080",
   "metadata": {},
   "outputs": [],
   "source": [
    "extra2 = ExtraTreesClassifier(random_state = 320584)"
   ]
  },
  {
   "cell_type": "code",
   "execution_count": 87,
   "id": "85f1bff8",
   "metadata": {},
   "outputs": [
    {
     "data": {
      "text/plain": [
       "ExtraTreesClassifier(random_state=320584)"
      ]
     },
     "execution_count": 87,
     "metadata": {},
     "output_type": "execute_result"
    }
   ],
   "source": [
    "extra2.fit(X_train_train, y_train_train[\"0\"])"
   ]
  },
  {
   "cell_type": "code",
   "execution_count": 88,
   "id": "39b72cc2",
   "metadata": {},
   "outputs": [],
   "source": [
    "sfm = SelectFromModel(extra2)"
   ]
  },
  {
   "cell_type": "code",
   "execution_count": 89,
   "id": "6a9eef29",
   "metadata": {},
   "outputs": [],
   "source": [
    "X_train_train_selected = sfm.fit_transform(X_train_train, y_train_train[\"0\"])\n",
    "X_train_test_selected = sfm.transform(X_train_test)"
   ]
  },
  {
   "cell_type": "code",
   "execution_count": 90,
   "id": "2f1ad0f8",
   "metadata": {},
   "outputs": [
    {
     "name": "stdout",
     "output_type": "stream",
     "text": [
      "<class 'pandas.core.frame.DataFrame'>\n",
      "RangeIndex: 1800 entries, 0 to 1799\n",
      "Data columns (total 8 columns):\n",
      " #   Column  Non-Null Count  Dtype\n",
      "---  ------  --------------  -----\n",
      " 0   0       1800 non-null   int64\n",
      " 1   1       1800 non-null   int64\n",
      " 2   2       1800 non-null   int64\n",
      " 3   3       1800 non-null   int64\n",
      " 4   4       1800 non-null   int64\n",
      " 5   5       1800 non-null   int64\n",
      " 6   6       1800 non-null   int64\n",
      " 7   7       1800 non-null   int64\n",
      "dtypes: int64(8)\n",
      "memory usage: 112.6 KB\n"
     ]
    }
   ],
   "source": [
    "pd.DataFrame(X_train_train_selected).info()"
   ]
  },
  {
   "cell_type": "code",
   "execution_count": 91,
   "id": "128bec44",
   "metadata": {},
   "outputs": [
    {
     "data": {
      "text/plain": [
       "ExtraTreesClassifier(random_state=320584)"
      ]
     },
     "execution_count": 91,
     "metadata": {},
     "output_type": "execute_result"
    }
   ],
   "source": [
    "extra2.fit(X_train_train_selected, y_train_train[\"0\"])"
   ]
  },
  {
   "cell_type": "code",
   "execution_count": 92,
   "id": "885ca02c",
   "metadata": {},
   "outputs": [],
   "source": [
    "y_train_train_pred12 = extra2.predict(X_train_train_selected)\n",
    "y_train_test_pred12 = extra2.predict(X_train_test_selected)"
   ]
  },
  {
   "cell_type": "code",
   "execution_count": 93,
   "id": "2c2f5c91",
   "metadata": {
    "scrolled": true
   },
   "outputs": [
    {
     "name": "stdout",
     "output_type": "stream",
     "text": [
      "Na części treningowej: 1.0\n",
      "Na części testowej: 0.8936888799274121\n"
     ]
    }
   ],
   "source": [
    "print(f\"Na części treningowej: {balanced_accuracy_score(y_train_train, y_train_train_pred12)}\")\n",
    "print(f\"Na części testowej: {balanced_accuracy_score(y_train_test, y_train_test_pred12)}\")"
   ]
  },
  {
   "cell_type": "markdown",
   "id": "e45579ca",
   "metadata": {},
   "source": [
    "## Ostateczny model"
   ]
  },
  {
   "cell_type": "code",
   "execution_count": 94,
   "id": "815af814",
   "metadata": {
    "scrolled": true
   },
   "outputs": [
    {
     "name": "stdout",
     "output_type": "stream",
     "text": [
      "Na części treningowej: 1.0\n",
      "Na części testowej: 0.9019558423228149\n"
     ]
    }
   ],
   "source": [
    "forest_best = RandomForestClassifier(random_state = 320584)\n",
    "forest_best.fit(X_train_train, y_train_train[\"0\"])\n",
    "sfm = SelectFromModel(forest_best)\n",
    "X_train_train_selected = sfm.fit_transform(X_train_train, y_train_train[\"0\"])\n",
    "X_train_test_selected = sfm.transform(X_train_test)\n",
    "forest_best.fit(X_train_train_selected, y_train_train[\"0\"])\n",
    "y_train_train_pred_best = forest_best.predict(X_train_train_selected)\n",
    "y_train_test_pred_best = forest_best.predict(X_train_test_selected)\n",
    "print(f\"Na części treningowej: {balanced_accuracy_score(y_train_train, y_train_train_pred_best)}\")\n",
    "print(f\"Na części testowej: {balanced_accuracy_score(y_train_test, y_train_test_pred_best)}\")"
   ]
  },
  {
   "cell_type": "markdown",
   "id": "2ecb1ffe",
   "metadata": {},
   "source": [
    "## Dopasowanie modelu do całych danych treningowych"
   ]
  },
  {
   "cell_type": "code",
   "execution_count": 98,
   "id": "0e423be0",
   "metadata": {},
   "outputs": [
    {
     "name": "stdout",
     "output_type": "stream",
     "text": [
      "Na części treningowej: 1.0\n"
     ]
    }
   ],
   "source": [
    "forest_all = RandomForestClassifier(random_state = 320584)\n",
    "forest_all.fit(X_train, y_train[\"0\"])\n",
    "sfm2 = SelectFromModel(forest_all)\n",
    "X_train_sel = sfm2.fit_transform(X_train, y_train[\"0\"])\n",
    "forest_all.fit(X_train_sel, y_train[\"0\"])\n",
    "y_train_pred = forest_all.predict(X_train_sel)\n",
    "print(f\"Na części treningowej: {balanced_accuracy_score(y_train, y_train_pred)}\")"
   ]
  },
  {
   "cell_type": "markdown",
   "id": "2b987fec",
   "metadata": {},
   "source": [
    "## Predykcja na prawdziwym zbiorze testowym"
   ]
  },
  {
   "cell_type": "code",
   "execution_count": 99,
   "id": "e4c06b86",
   "metadata": {},
   "outputs": [],
   "source": [
    "X_test_sel = sfm2.transform(X_test)"
   ]
  },
  {
   "cell_type": "code",
   "execution_count": 100,
   "id": "6722b34c",
   "metadata": {},
   "outputs": [],
   "source": [
    "prawdopodobienstwa = forest_all.predict_proba(X_test_sel)[:, 1]"
   ]
  },
  {
   "cell_type": "code",
   "execution_count": 101,
   "id": "7b5cb166",
   "metadata": {},
   "outputs": [],
   "source": [
    "nazwa_pliku = \"320584_artifical_prediction.txt\"\n",
    "\n",
    "with open(nazwa_pliku, 'w') as plik:\n",
    "    plik.write(\"320584\" + '\\n')\n",
    "    for pstwo in prawdopodobienstwa:\n",
    "        plik.write(str(pstwo) + '\\n')"
   ]
  }
 ],
 "metadata": {
  "kernelspec": {
   "display_name": "Python 3 (ipykernel)",
   "language": "python",
   "name": "python3"
  },
  "language_info": {
   "codemirror_mode": {
    "name": "ipython",
    "version": 3
   },
   "file_extension": ".py",
   "mimetype": "text/x-python",
   "name": "python",
   "nbconvert_exporter": "python",
   "pygments_lexer": "ipython3",
   "version": "3.9.12"
  }
 },
 "nbformat": 4,
 "nbformat_minor": 5
}
