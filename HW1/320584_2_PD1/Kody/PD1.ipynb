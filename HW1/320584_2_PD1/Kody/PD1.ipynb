{
 "cells": [
  {
   "cell_type": "markdown",
   "id": "9431ca5d",
   "metadata": {},
   "source": [
    "# 1. Zbiór danych\n"
   ]
  },
  {
   "cell_type": "code",
   "execution_count": 4,
   "id": "8745433c",
   "metadata": {},
   "outputs": [],
   "source": [
    "import numpy as np\n",
    "import pandas as pd\n",
    "from sklearn import tree\n",
    "from sklearn.model_selection import train_test_split"
   ]
  },
  {
   "cell_type": "code",
   "execution_count": 5,
   "id": "90c0ff28",
   "metadata": {},
   "outputs": [],
   "source": [
    "X = pd.read_csv('X.csv')\n",
    "y = pd.read_csv('y.csv')"
   ]
  },
  {
   "cell_type": "code",
   "execution_count": 6,
   "id": "23c743da",
   "metadata": {},
   "outputs": [],
   "source": [
    "X_train, X_test, y_train, y_test = train_test_split(X, y, test_size=0.3, random_state=320584)"
   ]
  },
  {
   "cell_type": "markdown",
   "id": "78ec20bf",
   "metadata": {},
   "source": [
    "# 2. Eksperyment"
   ]
  },
  {
   "cell_type": "code",
   "execution_count": 7,
   "id": "ddaeed4b",
   "metadata": {},
   "outputs": [],
   "source": [
    "criterions = ['gini', 'entropy']\n",
    "max_depths = list(range(5, 20))\n",
    "min_samples_leafs = list(range(5, 31, 5))\n",
    "max_features = ['auto', 'sqrt', 'log2']"
   ]
  },
  {
   "cell_type": "code",
   "execution_count": 8,
   "id": "98f95a48",
   "metadata": {},
   "outputs": [],
   "source": [
    "best_accuracy = 0\n",
    "best_criterion = None\n",
    "best_max_depth = None\n",
    "best_min_samples_leaf = None\n",
    "best_max_features = None"
   ]
  },
  {
   "cell_type": "code",
   "execution_count": 9,
   "id": "1722db92",
   "metadata": {},
   "outputs": [],
   "source": [
    "from sklearn.model_selection import cross_val_score"
   ]
  },
  {
   "cell_type": "code",
   "execution_count": 11,
   "id": "8d11f2e4",
   "metadata": {},
   "outputs": [],
   "source": [
    "for criterion in criterions:\n",
    "    for max_depth in max_depths:\n",
    "        for min_samples_leaf in min_samples_leafs:\n",
    "            for max_feature in max_features:\n",
    "                Tree = tree.DecisionTreeClassifier(criterion = criterion, max_depth = max_depth, \n",
    "                                                   min_samples_leaf = min_samples_leaf, \n",
    "                                                   max_features = max_feature, random_state = 320584)\n",
    "                scores = cross_val_score(Tree, X_train, y_train, cv=5)\n",
    "                mean_accuracy = np.mean(scores)\n",
    "                if mean_accuracy > best_accuracy:\n",
    "                    best_accuracy = mean_accuracy\n",
    "                    best_criterion = criterion\n",
    "                    best_max_depth = max_depth\n",
    "                    best_min_samples_leaf = min_samples_leaf\n",
    "                    best_max_features = max_feature"
   ]
  },
  {
   "cell_type": "markdown",
   "id": "2e45fe05",
   "metadata": {},
   "source": [
    "# 3. Analiza jakości predykcyjnej modelu"
   ]
  },
  {
   "cell_type": "code",
   "execution_count": 12,
   "id": "b8096634",
   "metadata": {},
   "outputs": [
    {
     "data": {
      "text/plain": [
       "DecisionTreeClassifier(criterion='entropy', max_depth=16, max_features='auto',\n",
       "                       min_samples_leaf=5, random_state=320584)"
      ]
     },
     "execution_count": 12,
     "metadata": {},
     "output_type": "execute_result"
    }
   ],
   "source": [
    "best_tree = tree.DecisionTreeClassifier(criterion = best_criterion, max_depth = best_max_depth, \n",
    "                                       min_samples_leaf = best_min_samples_leaf,\n",
    "                                       max_features = best_max_features, random_state = 320584)\n",
    "best_tree.fit(X_train, y_train)"
   ]
  },
  {
   "cell_type": "code",
   "execution_count": 13,
   "id": "292f4ab4",
   "metadata": {},
   "outputs": [],
   "source": [
    "y_pred = best_tree.predict(X_test)"
   ]
  },
  {
   "cell_type": "code",
   "execution_count": 14,
   "id": "a2106e97",
   "metadata": {},
   "outputs": [
    {
     "data": {
      "text/plain": [
       "array([[2408,  604],\n",
       "       [ 586, 2402]], dtype=int64)"
      ]
     },
     "execution_count": 14,
     "metadata": {},
     "output_type": "execute_result"
    }
   ],
   "source": [
    "from sklearn.metrics import confusion_matrix\n",
    "confusion = confusion_matrix(y_test, y_pred)\n",
    "confusion"
   ]
  },
  {
   "cell_type": "code",
   "execution_count": 15,
   "id": "c918e801",
   "metadata": {},
   "outputs": [
    {
     "data": {
      "text/plain": [
       "0.8016666666666666"
      ]
     },
     "execution_count": 15,
     "metadata": {},
     "output_type": "execute_result"
    }
   ],
   "source": [
    "accuracy = best_tree.score(X_test, y_test)\n",
    "accuracy"
   ]
  },
  {
   "cell_type": "code",
   "execution_count": 16,
   "id": "e0187805",
   "metadata": {},
   "outputs": [],
   "source": [
    "TN = confusion[0][0]\n",
    "FN = confusion[1][0]\n",
    "FP = confusion[0][1]\n",
    "TP = confusion[1][1]"
   ]
  },
  {
   "cell_type": "code",
   "execution_count": 17,
   "id": "4d7ca19b",
   "metadata": {},
   "outputs": [
    {
     "data": {
      "text/plain": [
       "0.8038821954484605"
      ]
     },
     "execution_count": 17,
     "metadata": {},
     "output_type": "execute_result"
    }
   ],
   "source": [
    "sensitivity = TP / (TP + FN)\n",
    "sensitivity"
   ]
  },
  {
   "cell_type": "code",
   "execution_count": 18,
   "id": "efd438e6",
   "metadata": {},
   "outputs": [
    {
     "data": {
      "text/plain": [
       "0.7990685296074518"
      ]
     },
     "execution_count": 18,
     "metadata": {},
     "output_type": "execute_result"
    }
   ],
   "source": [
    "precision = TP / (TP + FP)\n",
    "precision"
   ]
  },
  {
   "cell_type": "code",
   "execution_count": 19,
   "id": "c0eec3be",
   "metadata": {},
   "outputs": [
    {
     "data": {
      "image/png": "[encoded data removed]",
      "text/plain": [
       "<Figure size 432x288 with 1 Axes>"
      ]
     },
     "metadata": {
      "needs_background": "light"
     },
     "output_type": "display_data"
    }
   ],
   "source": [
    "from sklearn.metrics import roc_curve\n",
    "import matplotlib.pyplot as plt\n",
    "fpr, tpr, thresholds = roc_curve(y_test, y_pred)\n",
    "plt.plot(fpr,tpr)\n",
    "plt.grid()\n",
    "plt.xlabel('FPR')\n",
    "plt.ylabel('TPR')\n",
    "plt.title('Krzywa ROC')\n",
    "plt.show()"
   ]
  },
  {
   "cell_type": "code",
   "execution_count": 20,
   "id": "9fa3a185",
   "metadata": {},
   "outputs": [
    {
     "data": {
      "text/plain": [
       "0.8016754934745622"
      ]
     },
     "execution_count": 20,
     "metadata": {},
     "output_type": "execute_result"
    }
   ],
   "source": [
    "from sklearn.metrics import roc_auc_score\n",
    "roc_auc_score(y_test, y_pred)"
   ]
  }
 ],
 "metadata": {
  "kernelspec": {
   "display_name": "Python 3 (ipykernel)",
   "language": "python",
   "name": "python3"
  },
  "language_info": {
   "codemirror_mode": {
    "name": "ipython",
    "version": 3
   },
   "file_extension": ".py",
   "mimetype": "text/x-python",
   "name": "python",
   "nbconvert_exporter": "python",
   "pygments_lexer": "ipython3",
   "version": "3.9.12"
  }
 },
 "nbformat": 4,
 "nbformat_minor": 5
}
