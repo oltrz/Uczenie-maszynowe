{
 "cells": [
  {
   "cell_type": "markdown",
   "id": "ccb2ef68",
   "metadata": {},
   "source": [
    "### Import pakietów"
   ]
  },
  {
   "cell_type": "code",
   "execution_count": 1,
   "id": "8824a30b",
   "metadata": {},
   "outputs": [],
   "source": [
    "import numpy as np\n",
    "from statistics import multimode\n",
    "import random\n",
    "from sklearn.model_selection import train_test_split\n",
    "from sklearn.metrics import accuracy_score\n",
    "from sklearn.datasets import make_classification\n",
    "import matplotlib.pyplot as plt"
   ]
  },
  {
   "cell_type": "markdown",
   "id": "d12ee590",
   "metadata": {},
   "source": [
    "## Część pierwsza\n",
    "### Funkcje pomocnicze"
   ]
  },
  {
   "cell_type": "code",
   "execution_count": 2,
   "id": "a804047f",
   "metadata": {},
   "outputs": [],
   "source": [
    "def check_params(X, y, Z, k, p = 2):\n",
    "    # funkcja pomocnicza sprawdzająca poprawność parametrów wejściowych\n",
    "    c = len(X[0]) # ile cech obserwujemy (kolumny)\n",
    "    n = len(X) # ile obserwacji w X\n",
    "    m = len(Z) # ile obserwacji w Z\n",
    "    assert isinstance(X, list) and all(isinstance(row, list) for row in X) and all(len(row) == c for row in X) and np.isrealobj(X), \"X musi być macierzą rzeczywistą\"\n",
    "    assert isinstance(y, list) and len(y) == n, \"lista y musi mieć tyle samo obserwacji, co X\"\n",
    "    assert isinstance(Z, list) and all(isinstance(row, list) for row in Z) and all(len(row) == c for row in Z) and np.isrealobj(Z), \"Z musi być macierzą rzeczywistą\"\n",
    "    assert isinstance(k, int) and 1 <= k <= n, \"k musi być liczbą całkowitą z przedziału [1, n]\"\n",
    "    assert (isinstance(p, int) and p >= 1) or (isinstance(p, float) and p >= 1) or p == 'infty', \"p musi być liczbą rzeczywistą większą od 1, równą 1 lub przyjmować wartość 'infty'\"\n",
    "    return True"
   ]
  },
  {
   "cell_type": "code",
   "execution_count": 3,
   "id": "b5dbe3f9",
   "metadata": {},
   "outputs": [],
   "source": [
    "def lp_distance(a, b, p):\n",
    "    # funkcja pomocnicza obliczająca odległości w metryce Lp\n",
    "    if p == 'infty':\n",
    "        distance = max(abs(v - w) for v, w in zip(a, b))\n",
    "        return distance\n",
    "    else:\n",
    "        distance = sum(abs(v - w) ** p for v, w in zip(a, b)) ** (1 / p)\n",
    "        return distance"
   ]
  },
  {
   "cell_type": "markdown",
   "id": "523be485",
   "metadata": {},
   "source": [
    "### Implementacja algorytmu k najbliższych sąsiadów\n"
   ]
  },
  {
   "cell_type": "code",
   "execution_count": 4,
   "id": "43f832e6",
   "metadata": {},
   "outputs": [],
   "source": [
    "def knn(X, y, Z, k, p = 2):\n",
    "    # implementacja algorytmu k najbliższych sąsiadów\n",
    "    # zakładamy, że nie ma braków danych i że dane są na jednej skali \n",
    "    if not check_params(X, y, Z, k, p):\n",
    "        return\n",
    "\n",
    "    c = len(X[0]) # ile cech obserwujemy (kolumny)\n",
    "    n = len(X) # ile obserwacji w X\n",
    "    m = len(Z) # ile obserwacji w Z\n",
    "    w = [None for i in range(m)]\n",
    "\n",
    "    for i in range(m):\n",
    "        # d - wektor odległości od każdego z wierszy X\n",
    "        d = [None for a in range(n)]\n",
    "        for j in range(n):\n",
    "            d[j] = (lp_distance(Z[i], X[j], p))\n",
    "\n",
    "        # dla danej obserwacji z Z znajdujemy indeksy k najbliższych punktów z X\n",
    "        sorted_indexes = sorted(range(n), key=lambda i: d[i], reverse=False)\n",
    "        which_nearest = sorted_indexes[:k]\n",
    "\n",
    "        # wyznaczamy ciąg etykiet k najbliższych sąsiadów i szukamy wartości najczęściej występującej\n",
    "        nearest_categories = [y[index] for index in which_nearest]\n",
    "        modes = multimode(nearest_categories)\n",
    "        chosen_mode = random.choice(modes)\n",
    "\n",
    "        w[i] = chosen_mode\n",
    "    return w\n"
   ]
  },
  {
   "cell_type": "markdown",
   "id": "9b1cec3c",
   "metadata": {},
   "source": [
    "## Część druga"
   ]
  },
  {
   "cell_type": "markdown",
   "id": "db906ddb",
   "metadata": {},
   "source": [
    "### Tożsame próby ucząca i testowa"
   ]
  },
  {
   "cell_type": "code",
   "execution_count": 5,
   "id": "cce5c1a8",
   "metadata": {},
   "outputs": [],
   "source": [
    "# generujemy losowy problem klasyfikacji\n",
    "X, y = make_classification(n_samples=50, n_features=2, n_redundant=0, random_state=3141592)"
   ]
  },
  {
   "cell_type": "code",
   "execution_count": 6,
   "id": "f5052053",
   "metadata": {},
   "outputs": [],
   "source": [
    "X = X.tolist()\n",
    "y = y.tolist()"
   ]
  },
  {
   "cell_type": "code",
   "execution_count": 7,
   "id": "3b59fce1",
   "metadata": {},
   "outputs": [
    {
     "name": "stdout",
     "output_type": "stream",
     "text": [
      "True\n"
     ]
    }
   ],
   "source": [
    "# 1-nn z metryką L1\n",
    "res = knn(X, y, X, 1, 1)\n",
    "print(res == y)"
   ]
  },
  {
   "cell_type": "code",
   "execution_count": 8,
   "id": "c0087a40",
   "metadata": {},
   "outputs": [
    {
     "name": "stdout",
     "output_type": "stream",
     "text": [
      "True\n"
     ]
    }
   ],
   "source": [
    "# 1-nn z metryką L2\n",
    "res = knn(X, y, X, 1)\n",
    "print(res == y)"
   ]
  },
  {
   "cell_type": "code",
   "execution_count": 9,
   "id": "3b1ee4fd",
   "metadata": {},
   "outputs": [
    {
     "name": "stdout",
     "output_type": "stream",
     "text": [
      "True\n"
     ]
    }
   ],
   "source": [
    "# 1-nn z metryką L nieskończoność\n",
    "res = knn(X, y, X, 1, 'infty')\n",
    "print(res == y)"
   ]
  },
  {
   "cell_type": "markdown",
   "id": "a18f744a",
   "metadata": {},
   "source": [
    "### Ilustracja poszukiwania najbliższych sąsiadów"
   ]
  },
  {
   "cell_type": "code",
   "execution_count": 37,
   "id": "84b96f81",
   "metadata": {},
   "outputs": [
    {
     "data": {
      "image/png": "[encoded data removed]",
      "text/plain": [
       "<Figure size 432x288 with 1 Axes>"
      ]
     },
     "metadata": {
      "needs_background": "light"
     },
     "output_type": "display_data"
    }
   ],
   "source": [
    "# Losowe punkty w dwuwymiarowej przestrzeni\n",
    "random.seed(320584)\n",
    "X_train = [[random.uniform(0, 10), random.uniform(0, 10)] for _ in range(10)]\n",
    "y_train = [random.choice([0, 1]) for _ in range(10)]\n",
    "X_test = [[random.uniform(0, 10), random.uniform(0, 10)]]\n",
    "\n",
    "# Przykład użycia funkcji knn() dla metryki L2\n",
    "k = 3\n",
    "prediction = knn(X_train, y_train, X_test, k, 2)\n",
    "\n",
    "# Wizualizacja danych i najbliższych sąsiadów\n",
    "plt.scatter([x[0] for x in X_train], [x[1] for x in X_train], c = y_train, marker='o', label='Dane uczące')\n",
    "plt.scatter([x[0] for x in X_test], [x[1] for x in X_test], c='red', marker='x', label='Punkt testowy')\n",
    "\n",
    "\n",
    "# Zaznaczanie najbliższych sąsiadów\n",
    "for i, test_point in enumerate(X_test):\n",
    "    distances = [lp_distance(test_point, train_point, 2) for train_point in X_train]\n",
    "    nearest_indices = sorted(range(len(distances)), key=lambda k: distances[k])[:k]\n",
    "    nearest_neighbors = [X_train[i] for i in nearest_indices]\n",
    "    plt.scatter([x[0] for x in nearest_neighbors], [x[1] for x in nearest_neighbors], marker='^', label=f'Najbliżsi sąsiedzi punktu testowego')\n",
    "\n",
    "plt.legend(bbox_to_anchor=(1.05, 1), loc='upper left')\n",
    "plt.title(f'Wizualizacja danych i {k} najbliższych sąsiadów punktu testowego')\n",
    "plt.savefig('obrazeczek.pdf', format = 'pdf', bbox_inches='tight')"
   ]
  },
  {
   "cell_type": "code",
   "execution_count": 11,
   "id": "5a91b200",
   "metadata": {},
   "outputs": [
    {
     "data": {
      "text/plain": [
       "[[7.636668160920134, 5.484412244112163],\n",
       " [7.510217111394138, 3.349616567527004],\n",
       " [6.338657250016558, 8.469327221632675],\n",
       " [8.656652261697955, 5.425741650276641],\n",
       " [3.1542285519866367, 1.6074083275705142],\n",
       " [9.48407330945975, 7.110022179217407],\n",
       " [6.981134689754743, 1.2511105095317743],\n",
       " [3.020381288219994, 4.292365698781104],\n",
       " [3.8207989443780255, 9.09956455162935],\n",
       " [9.604926814678837, 3.348921061071101]]"
      ]
     },
     "execution_count": 11,
     "metadata": {},
     "output_type": "execute_result"
    }
   ],
   "source": [
    "X_train"
   ]
  },
  {
   "cell_type": "code",
   "execution_count": 12,
   "id": "dd1ca198",
   "metadata": {
    "scrolled": true
   },
   "outputs": [
    {
     "data": {
      "text/plain": [
       "[1, 0, 1, 1, 0, 1, 1, 1, 1, 0]"
      ]
     },
     "execution_count": 12,
     "metadata": {},
     "output_type": "execute_result"
    }
   ],
   "source": [
    "y_train"
   ]
  },
  {
   "cell_type": "code",
   "execution_count": 13,
   "id": "ddd5cb4b",
   "metadata": {
    "scrolled": true
   },
   "outputs": [
    {
     "data": {
      "text/plain": [
       "[1]"
      ]
     },
     "execution_count": 13,
     "metadata": {},
     "output_type": "execute_result"
    }
   ],
   "source": [
    "prediction"
   ]
  },
  {
   "cell_type": "code",
   "execution_count": 38,
   "id": "edf9d694",
   "metadata": {
    "scrolled": true
   },
   "outputs": [
    {
     "data": {
      "image/png": "[encoded data removed]",
      "text/plain": [
       "<Figure size 432x288 with 1 Axes>"
      ]
     },
     "metadata": {
      "needs_background": "light"
     },
     "output_type": "display_data"
    }
   ],
   "source": [
    "# Losowe punkty w dwuwymiarowej przestrzeni\n",
    "random.seed(314159)\n",
    "X_train = [[random.uniform(0, 10), random.uniform(0, 10)] for _ in range(30)]\n",
    "y_train = [random.choice([0, 1]) for _ in range(30)]\n",
    "X_test = [[random.uniform(0, 10), random.uniform(0, 10)]]\n",
    "\n",
    "# Przykład użycia funkcji knn() dla metryki L2\n",
    "k = 5\n",
    "prediction = knn(X_train, y_train, X_test, k, 2)\n",
    "\n",
    "# Wizualizacja danych i najbliższych sąsiadów\n",
    "plt.scatter([x[0] for x in X_train], [x[1] for x in X_train], c = y_train, marker='o', label='Dane uczące')\n",
    "plt.scatter([x[0] for x in X_test], [x[1] for x in X_test], c='red', marker='x', label='Punkt testowy')\n",
    "\n",
    "\n",
    "# Zaznaczanie najbliższych sąsiadów\n",
    "for i, test_point in enumerate(X_test):\n",
    "    distances = [lp_distance(test_point, train_point, 2) for train_point in X_train]\n",
    "    nearest_indices = sorted(range(len(distances)), key=lambda k: distances[k])[:k]\n",
    "    nearest_neighbors = [X_train[i] for i in nearest_indices]\n",
    "    plt.scatter([x[0] for x in nearest_neighbors], [x[1] for x in nearest_neighbors], marker='^', label=f'Najbliżsi sąsiedzi punktu testowego')\n",
    "\n",
    "plt.legend(bbox_to_anchor=(1.05, 1), loc='upper left')\n",
    "plt.title(f'Wizualizacja danych i {k} najbliższych sąsiadów punktu testowego')\n",
    "plt.savefig('obrazeczek2.pdf', format = 'pdf', bbox_inches='tight')"
   ]
  },
  {
   "cell_type": "code",
   "execution_count": 24,
   "id": "75d962a5",
   "metadata": {
    "scrolled": true
   },
   "outputs": [
    {
     "data": {
      "text/plain": [
       "[[1.9236379321481523, 2.868424512347926],\n",
       " [1.1815528251671126, 3.062919199970693],\n",
       " [3.093436994522171, 1.8444279707476485],\n",
       " [5.689863980810021, 7.356997954444912],\n",
       " [2.054332755755933, 5.099949135665214],\n",
       " [1.5490505982693947, 9.753784820549745],\n",
       " [3.2026424261790662, 5.045136223451333],\n",
       " [6.687767450621024, 3.3556632918940976],\n",
       " [4.751080150277795, 9.016766972749586],\n",
       " [5.501377384406899, 2.0543066478852765],\n",
       " [8.930785665246088, 2.841894315820138],\n",
       " [2.630974244919541, 5.051200132743063],\n",
       " [6.1659702089509665, 7.372416106747915],\n",
       " [2.4986163753607213, 0.2713086138095877],\n",
       " [1.211858740677153, 6.60712060777882],\n",
       " [1.0371386474396271, 3.0353311961436216],\n",
       " [2.3657271691907256, 9.724257674907156],\n",
       " [1.128166775544146, 7.357633488719908],\n",
       " [9.619715715356563, 8.969118110565697],\n",
       " [1.6970261821214006, 5.445132620386602],\n",
       " [4.275449219262226, 9.907068554094385],\n",
       " [9.51730455333035, 3.06093752537795],\n",
       " [8.152735957996345, 1.1995139405945265],\n",
       " [4.077943049003643, 5.152365388049516],\n",
       " [8.470583345042066, 3.459135186135802],\n",
       " [4.233128665463337, 5.823811241777097],\n",
       " [9.559717693854484, 7.179596878813613],\n",
       " [9.328016360825703, 7.757043561464803],\n",
       " [5.351197181817751, 2.4680455499395215],\n",
       " [8.635991820417473, 9.621784678834256]]"
      ]
     },
     "execution_count": 24,
     "metadata": {},
     "output_type": "execute_result"
    }
   ],
   "source": [
    "X_train"
   ]
  },
  {
   "cell_type": "code",
   "execution_count": 25,
   "id": "f0676d3a",
   "metadata": {
    "scrolled": false
   },
   "outputs": [
    {
     "data": {
      "text/plain": [
       "[0,\n",
       " 0,\n",
       " 1,\n",
       " 1,\n",
       " 1,\n",
       " 0,\n",
       " 1,\n",
       " 0,\n",
       " 0,\n",
       " 0,\n",
       " 1,\n",
       " 1,\n",
       " 0,\n",
       " 0,\n",
       " 0,\n",
       " 0,\n",
       " 1,\n",
       " 0,\n",
       " 0,\n",
       " 0,\n",
       " 1,\n",
       " 0,\n",
       " 1,\n",
       " 1,\n",
       " 1,\n",
       " 0,\n",
       " 1,\n",
       " 1,\n",
       " 0,\n",
       " 0]"
      ]
     },
     "execution_count": 25,
     "metadata": {},
     "output_type": "execute_result"
    }
   ],
   "source": [
    "y_train"
   ]
  },
  {
   "cell_type": "code",
   "execution_count": 26,
   "id": "054c10a2",
   "metadata": {},
   "outputs": [
    {
     "data": {
      "text/plain": [
       "[0]"
      ]
     },
     "execution_count": 26,
     "metadata": {},
     "output_type": "execute_result"
    }
   ],
   "source": [
    "prediction"
   ]
  },
  {
   "cell_type": "markdown",
   "id": "5be193ea",
   "metadata": {},
   "source": [
    "### Test dokładności na losowym problemie klasyfikacji"
   ]
  },
  {
   "cell_type": "code",
   "execution_count": 14,
   "id": "32b55f11",
   "metadata": {},
   "outputs": [],
   "source": [
    "X, y = make_classification(n_samples=1000, n_features=2, n_redundant=0, random_state=3141592)"
   ]
  },
  {
   "cell_type": "code",
   "execution_count": 15,
   "id": "4d1159af",
   "metadata": {},
   "outputs": [],
   "source": [
    "X_train, X_test, y_train, y_test = train_test_split(X, y, test_size=0.3, random_state=3141592)"
   ]
  },
  {
   "cell_type": "code",
   "execution_count": 16,
   "id": "9d5856f4",
   "metadata": {},
   "outputs": [],
   "source": [
    "X_train = X_train.tolist()\n",
    "X_test = X_test.tolist()\n",
    "y_train = y_train.tolist()\n",
    "y_test = y_test.tolist()"
   ]
  },
  {
   "cell_type": "code",
   "execution_count": 17,
   "id": "7b960669",
   "metadata": {},
   "outputs": [
    {
     "name": "stdout",
     "output_type": "stream",
     "text": [
      "k=1, Metryka=L_1, Dokładność na zbiorze treningowym=1.0, Dokładność na zbiorze testowym=0.957\n",
      "k=1, Metryka=L_2, Dokładność na zbiorze treningowym=1.0, Dokładność na zbiorze testowym=0.957\n",
      "k=1, Metryka=L_infty, Dokładność na zbiorze treningowym=1.0, Dokładność na zbiorze testowym=0.953\n",
      "k=3, Metryka=L_1, Dokładność na zbiorze treningowym=0.964, Dokładność na zbiorze testowym=0.97\n",
      "k=3, Metryka=L_2, Dokładność na zbiorze treningowym=0.966, Dokładność na zbiorze testowym=0.973\n",
      "k=3, Metryka=L_infty, Dokładność na zbiorze treningowym=0.963, Dokładność na zbiorze testowym=0.973\n",
      "k=5, Metryka=L_1, Dokładność na zbiorze treningowym=0.957, Dokładność na zbiorze testowym=0.967\n",
      "k=5, Metryka=L_2, Dokładność na zbiorze treningowym=0.959, Dokładność na zbiorze testowym=0.97\n",
      "k=5, Metryka=L_infty, Dokładność na zbiorze treningowym=0.957, Dokładność na zbiorze testowym=0.973\n",
      "k=7, Metryka=L_1, Dokładność na zbiorze treningowym=0.966, Dokładność na zbiorze testowym=0.97\n",
      "k=7, Metryka=L_2, Dokładność na zbiorze treningowym=0.964, Dokładność na zbiorze testowym=0.967\n",
      "k=7, Metryka=L_infty, Dokładność na zbiorze treningowym=0.964, Dokładność na zbiorze testowym=0.973\n"
     ]
    }
   ],
   "source": [
    "# Test dla różnych k i metryk\n",
    "k = [1, 3, 5, 7]  \n",
    "metryczki = [1, 2, 'infty'] \n",
    "\n",
    "for k in k:\n",
    "    for metryczka in metryczki:\n",
    "        y_pred_train = knn(X_train, y_train, X_train, k, metryczka)\n",
    "        accuracy_train = round(accuracy_score(y_train, y_pred_train), 3)\n",
    "        y_pred_test = knn(X_train, y_train, X_test, k, metryczka)\n",
    "        accuracy_test = round(accuracy_score(y_test, y_pred_test), 3)\n",
    "\n",
    "        \n",
    "        print(f\"k={k}, Metryka=L_{metryczka}, Dokładność na zbiorze treningowym={accuracy_train}, Dokładność na zbiorze testowym={accuracy_test}\")"
   ]
  },
  {
   "cell_type": "markdown",
   "id": "dea85813",
   "metadata": {},
   "source": [
    "## Test dokładności na mniejszym zbiorze danych"
   ]
  },
  {
   "cell_type": "code",
   "execution_count": 18,
   "id": "dcc9a34e",
   "metadata": {},
   "outputs": [],
   "source": [
    "X, y = make_classification(n_samples=50, n_features=2, n_redundant=0, random_state=3141592)"
   ]
  },
  {
   "cell_type": "code",
   "execution_count": 19,
   "id": "68644bd4",
   "metadata": {},
   "outputs": [],
   "source": [
    "X_train, X_test, y_train, y_test = train_test_split(X, y, test_size=0.3, random_state=3141592)"
   ]
  },
  {
   "cell_type": "code",
   "execution_count": 20,
   "id": "cbaf5ca9",
   "metadata": {},
   "outputs": [],
   "source": [
    "X_train = X_train.tolist()\n",
    "X_test = X_test.tolist()\n",
    "y_train = y_train.tolist()\n",
    "y_test = y_test.tolist()"
   ]
  },
  {
   "cell_type": "code",
   "execution_count": 21,
   "id": "42410aa8",
   "metadata": {},
   "outputs": [
    {
     "name": "stdout",
     "output_type": "stream",
     "text": [
      "k=1, Metryka=L_1, Dokładność na zbiorze treningowym=1.0, Dokładność na zbiorze testowym=0.867\n",
      "k=1, Metryka=L_2, Dokładność na zbiorze treningowym=1.0, Dokładność na zbiorze testowym=0.867\n",
      "k=1, Metryka=L_infty, Dokładność na zbiorze treningowym=1.0, Dokładność na zbiorze testowym=0.933\n",
      "k=3, Metryka=L_1, Dokładność na zbiorze treningowym=0.943, Dokładność na zbiorze testowym=0.933\n",
      "k=3, Metryka=L_2, Dokładność na zbiorze treningowym=0.943, Dokładność na zbiorze testowym=0.933\n",
      "k=3, Metryka=L_infty, Dokładność na zbiorze treningowym=0.971, Dokładność na zbiorze testowym=0.933\n",
      "k=5, Metryka=L_1, Dokładność na zbiorze treningowym=0.914, Dokładność na zbiorze testowym=0.867\n",
      "k=5, Metryka=L_2, Dokładność na zbiorze treningowym=0.886, Dokładność na zbiorze testowym=0.867\n",
      "k=5, Metryka=L_infty, Dokładność na zbiorze treningowym=0.857, Dokładność na zbiorze testowym=0.867\n",
      "k=7, Metryka=L_1, Dokładność na zbiorze treningowym=0.829, Dokładność na zbiorze testowym=0.867\n",
      "k=7, Metryka=L_2, Dokładność na zbiorze treningowym=0.886, Dokładność na zbiorze testowym=0.867\n",
      "k=7, Metryka=L_infty, Dokładność na zbiorze treningowym=0.886, Dokładność na zbiorze testowym=0.8\n"
     ]
    }
   ],
   "source": [
    "# Test dla różnych k i metryk\n",
    "k = [1, 3, 5, 7]  \n",
    "metryczki = [1, 2, 'infty'] \n",
    "\n",
    "for k in k:\n",
    "    for metryczka in metryczki:\n",
    "        y_pred_train = knn(X_train, y_train, X_train, k, metryczka)\n",
    "        accuracy_train = round(accuracy_score(y_train, y_pred_train), 3)\n",
    "        y_pred_test = knn(X_train, y_train, X_test, k, metryczka)\n",
    "        accuracy_test = round(accuracy_score(y_test, y_pred_test), 3)\n",
    "\n",
    "        \n",
    "        print(f\"k={k}, Metryka=L_{metryczka}, Dokładność na zbiorze treningowym={accuracy_train}, Dokładność na zbiorze testowym={accuracy_test}\")"
   ]
  }
 ],
 "metadata": {
  "kernelspec": {
   "display_name": "Python 3 (ipykernel)",
   "language": "python",
   "name": "python3"
  },
  "language_info": {
   "codemirror_mode": {
    "name": "ipython",
    "version": 3
   },
   "file_extension": ".py",
   "mimetype": "text/x-python",
   "name": "python",
   "nbconvert_exporter": "python",
   "pygments_lexer": "ipython3",
   "version": "3.9.12"
  }
 },
 "nbformat": 4,
 "nbformat_minor": 5
}
